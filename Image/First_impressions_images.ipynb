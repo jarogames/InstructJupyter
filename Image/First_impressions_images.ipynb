{
 "cells": [
  {
   "cell_type": "code",
   "execution_count": 14,
   "metadata": {
    "collapsed": false
   },
   "outputs": [
    {
     "data": {
      "text/plain": [
       "<matplotlib.image.AxesImage at 0x7f0e87ac1588>"
      ]
     },
     "execution_count": 14,
     "metadata": {},
     "output_type": "execute_result"
    },
    {
     "data": {
      "image/png": "[encoded data removed]",
      "text/plain": [
       "<matplotlib.figure.Figure at 0x7f0e9c2f17f0>"
      ]
     },
     "metadata": {},
     "output_type": "display_data"
    }
   ],
   "source": [
    "%matplotlib inline\n",
    "import numpy as np\n",
    "import matplotlib.pyplot as plt\n",
    "from random import randint\n",
    "img = np.zeros([24,24,3],dtype=np.uint8)\n",
    "h,w = len(img), len(img[0])\n",
    "ye=[25,55,25]\n",
    "for y in range(h):\n",
    "    for x in range(w):\n",
    "        img[y,x] = [ randint(0,255), randint(0,255) , 0 ]\n",
    "#img.fill(111) # or img[:] = 255\n",
    "#plt.imshow(img, interpolation='lanczos') \n",
    "plt.imshow(img, interpolation='None') "
   ]
  },
  {
   "cell_type": "code",
   "execution_count": 90,
   "metadata": {
    "collapsed": false
   },
   "outputs": [
    {
     "data": {
      "image/png": "[encoded data removed]",
      "text/plain": [
       "<matplotlib.figure.Figure at 0x7f5622513ac8>"
      ]
     },
     "metadata": {},
     "output_type": "display_data"
    }
   ],
   "source": [
    "%matplotlib inline\n",
    "import matplotlib.pyplot as plt\n",
    "from matplotlib.path import Path\n",
    "import matplotlib.patches as patches\n",
    "import numpy as np\n",
    "from random import randint     \n",
    "left=10\n",
    "top=170\n",
    "top2=130\n",
    "right=120\n",
    "right2=200\n",
    "bot=40\n",
    "bot2=80\n",
    "verts = [\n",
    "    (left, bot), # left, bottom\n",
    "    (left, top), # left, top\n",
    "    (right, top ), # right, top\n",
    "    (right, top2 ), # right, top\n",
    "    (right2, top2), # right, bottom\n",
    "    (right2, bot2), # right, bottom\n",
    "    (right,  bot2), # right, bottom\n",
    "    (right,  bot), # right, bottom\n",
    "    (0., 0.), # ignored\n",
    "    ]\n",
    "codes = np.ones( len(verts), int) * Path.LINETO\n",
    "codes[0]=Path.MOVETO\n",
    "codes[-1]=Path.CLOSEPOLY\n",
    "path = Path(verts, codes)\n",
    "patch = patches.PathPatch(path, facecolor='none', lw=2)\n",
    "plt.gca().add_patch( patch )\n",
    "circle = plt.Circle((2, 2), radius=1, fc='red')\n",
    "plt.gca().add_patch(circle)\n",
    "rectangle = plt.Rectangle((10, 10), 14, 11, fc='none')\n",
    "plt.gca().add_patch(rectangle)\n",
    "line = plt.Line2D((6, 18), (6, 6), lw=2.5)\n",
    "plt.gca().add_line(line)\n",
    "\n",
    "img = np.zeros([24,24,3],dtype=np.uint8)\n",
    "h,w = len(img), len(img[0])\n",
    "ye=[25,55,25]\n",
    "for y in range(h):\n",
    "    for x in range(w):\n",
    "        col=randint(0,255) \n",
    "        img[y,x] = [ col , 255-col , 90 ]\n",
    "#img.fill(111) # or img[:] = 255\n",
    "orix,oriy = right-w/2,top-w/2\n",
    "plt.imshow(img, extent=(orix,orix+w, oriy,oriy+h), interpolation='lanczos')\n",
    "\n",
    "import urllib.request as ur\n",
    "f=ur.urlretrieve(\"http://matplotlib.sourceforge.net/_static/logo2.png\") # print(f)\n",
    "img = plt.imread(f[0])\n",
    "mx,my=220,220\n",
    "plt.imshow(img ,  extent=(0,mx,0,my/3)  ,alpha=0.6 )\n",
    "#plt.imshow(img ,  aspect='equal', alpha=0.9 ) # this is from top down:: plt.axis( (0,900, 210,0)  )\n",
    "plt.axis( (0,mx, 0, my)  )\n",
    "#plt.axis( (0,600, 0,210) )  # flip image when without extent\n",
    "plt.axis('off')\n",
    "plt.show()"
   ]
  },
  {
   "cell_type": "code",
   "execution_count": null,
   "metadata": {
    "collapsed": true
   },
   "outputs": [],
   "source": [
    "        "
   ]
  }
 ],
 "metadata": {
  "anaconda-cloud": {},
  "kernelspec": {
   "display_name": "Python [Root]",
   "language": "python",
   "name": "Python [Root]"
  },
  "language_info": {
   "codemirror_mode": {
    "name": "ipython",
    "version": 3
   },
   "file_extension": ".py",
   "mimetype": "text/x-python",
   "name": "python",
   "nbconvert_exporter": "python",
   "pygments_lexer": "ipython3",
   "version": "3.5.2"
  }
 },
 "nbformat": 4,
 "nbformat_minor": 1
}
