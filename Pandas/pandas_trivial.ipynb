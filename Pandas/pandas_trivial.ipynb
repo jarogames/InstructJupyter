{
 "cells": [
  {
   "cell_type": "code",
   "execution_count": 24,
   "metadata": {},
   "outputs": [
    {
     "data": {
      "text/html": [
       "<div>\n",
       "<table border=\"1\" class=\"dataframe\">\n",
       "  <thead>\n",
       "    <tr style=\"text-align: right;\">\n",
       "      <th></th>\n",
       "      <th>a</th>\n",
       "      <th>b</th>\n",
       "      <th>c</th>\n",
       "    </tr>\n",
       "  </thead>\n",
       "  <tbody>\n",
       "    <tr>\n",
       "      <th>0</th>\n",
       "      <td>1</td>\n",
       "      <td>2</td>\n",
       "      <td>3</td>\n",
       "    </tr>\n",
       "    <tr>\n",
       "      <th>1</th>\n",
       "      <td>11</td>\n",
       "      <td>12</td>\n",
       "      <td>13</td>\n",
       "    </tr>\n",
       "    <tr>\n",
       "      <th>2</th>\n",
       "      <td>321</td>\n",
       "      <td>422</td>\n",
       "      <td>533</td>\n",
       "    </tr>\n",
       "  </tbody>\n",
       "</table>\n",
       "</div>"
      ],
      "text/plain": [
       "     a    b    c\n",
       "0    1    2    3\n",
       "1   11   12   13\n",
       "2  321  422  533"
      ]
     },
     "execution_count": 24,
     "metadata": {},
     "output_type": "execute_result"
    }
   ],
   "source": [
    "import pandas as pd\n",
    "df = pd.DataFrame([[1,2,3], [11,12,13], [321,422,533]], columns=['a', 'b', 'c'])\n",
    "df\n"
   ]
  },
  {
   "cell_type": "code",
   "execution_count": 41,
   "metadata": {},
   "outputs": [
    {
     "name": "stdout",
     "output_type": "stream",
     "text": [
      "     a    b    c\n",
      "0    1    2    3\n",
      "1   11   12   13\n",
      "2  321  422  533 \n",
      "-----\n",
      "\n",
      "value in col 0 row 1= 11\n",
      "value in col 1 row 1= 12\n",
      "value in col 2 row 0= 3\n",
      "column 2 with all =\n",
      "      c\n",
      "0    3\n",
      "1   13\n",
      "2  533\n"
     ]
    }
   ],
   "source": [
    "print( df, '\\n-----\\n' )\n",
    "print( 'value in col 0 row 1=', int(df.iloc[:, [0]].ix[1] )  )\n",
    "print( 'value in col 1 row 1=', int(df.iloc[:, [1]].ix[1] )  )\n",
    "print( 'value in col 2 row 0=', int(df.iloc[:, [2]].ix[0] )  )\n",
    "print( 'column 2 with all =\\n', df.iloc[:, [2]] )  \n"
   ]
  },
  {
   "cell_type": "code",
   "execution_count": 65,
   "metadata": {},
   "outputs": [
    {
     "name": "stdout",
     "output_type": "stream",
     "text": [
      "[3, 13, 533]\n",
      "[[11, 12, 13]]\n",
      "[[1, 2, 3], [11, 12, 13], [321, 422, 533]]\n"
     ]
    }
   ],
   "source": [
    "licol=df['c'].tolist()\n",
    "print( licol )\n",
    "lir=df[1:2].values.tolist()\n",
    "print( lir )\n",
    "lirow=df.values.tolist() \n",
    "print( lirow )\n",
    "#df.iloc[:, [1]].ix[1]\n"
   ]
  }
 ],
 "metadata": {
  "kernelspec": {
   "display_name": "Python [Root]",
   "language": "python",
   "name": "Python [Root]"
  },
  "language_info": {
   "codemirror_mode": {
    "name": "ipython",
    "version": 3
   },
   "file_extension": ".py",
   "mimetype": "text/x-python",
   "name": "python",
   "nbconvert_exporter": "python",
   "pygments_lexer": "ipython3",
   "version": "3.5.2"
  }
 },
 "nbformat": 4,
 "nbformat_minor": 1
}
