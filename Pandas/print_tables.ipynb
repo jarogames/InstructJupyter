{
 "cells": [
  {
   "cell_type": "code",
   "execution_count": 1,
   "metadata": {},
   "outputs": [],
   "source": [
    "pkx=[1,2,3]\n",
    "pky=[55,66,44]"
   ]
  },
  {
   "cell_type": "code",
   "execution_count": 3,
   "metadata": {},
   "outputs": [
    {
     "data": {
      "text/html": [
       "<table border=\"1\" class=\"dataframe\">\n",
       "  <thead>\n",
       "    <tr style=\"text-align: right;\">\n",
       "      <th></th>\n",
       "      <th>E</th>\n",
       "      <th>height</th>\n",
       "    </tr>\n",
       "  </thead>\n",
       "  <tbody>\n",
       "    <tr>\n",
       "      <th>0</th>\n",
       "      <td>1</td>\n",
       "      <td>55</td>\n",
       "    </tr>\n",
       "    <tr>\n",
       "      <th>1</th>\n",
       "      <td>2</td>\n",
       "      <td>66</td>\n",
       "    </tr>\n",
       "    <tr>\n",
       "      <th>2</th>\n",
       "      <td>3</td>\n",
       "      <td>44</td>\n",
       "    </tr>\n",
       "  </tbody>\n",
       "</table>"
      ],
      "text/plain": [
       "<IPython.core.display.HTML object>"
      ]
     },
     "metadata": {},
     "output_type": "display_data"
    },
    {
     "data": {
      "text/html": [
       "<h3>ahoj</h3>"
      ],
      "text/plain": [
       "<IPython.core.display.HTML object>"
      ]
     },
     "metadata": {},
     "output_type": "display_data"
    }
   ],
   "source": [
    "import pandas\n",
    "pta=pandas.DataFrame( {'E':pkx, 'height':pky} )\n",
    "pta=pta.sort_values(['E'])  \n",
    "pta=pta.reset_index(drop=True)\n",
    "from IPython.display import display, HTML\n",
    "#display(print(HTML(pta.to_html())))\n",
    "display(HTML(pta.to_html()))\n",
    "display(HTML('<h3>ahoj</h3>') )"
   ]
  },
  {
   "cell_type": "code",
   "execution_count": 8,
   "metadata": {},
   "outputs": [
    {
     "data": {
      "image/png": "[encoded data removed]",
      "text/plain": [
       "<matplotlib.figure.Figure at 0x7f3089267da0>"
      ]
     },
     "metadata": {},
     "output_type": "display_data"
    }
   ],
   "source": [
    "import matplotlib.pyplot as plt\n",
    "from pandas.tools.plotting import table\n",
    "from matplotlib import gridspec\n",
    "x,y=(pkx,pky)\n",
    "labi=len(x)\n",
    "fig = plt.figure(figsize=(10, 4)) \n",
    "gs = gridspec.GridSpec(1, 2, width_ratios=[3, 1]) \n",
    "\n",
    "\n",
    "ax = plt.subplot(gs[0], frame_on=True) # no visible frame\n",
    "plt.plot(x[:labi],y[:labi], 'b-')\n",
    "plt.plot(pkx,pky,'r.')\n",
    "ax.set_yscale(\"log\")\n",
    "\n",
    "ax = plt.subplot(gs[1], frame_on=False) # no visible frame\n",
    "ax.xaxis.set_visible(False)  # hide the x axis\n",
    "ax.yaxis.set_visible(False)  # hide the y axis\n",
    "ax.set_frame_on(False)  # no visible frame -else two frames...\n",
    "#table(ax, pta, rowLabels=['']*pta.shape[0], loc='center') \n",
    "tabla=table(ax, pta ,loc='upper right', colWidths=[0.617]*len(pta.columns) )\n",
    "tabla.scale(1., 1.)\n",
    "tabla.auto_set_font_size(False) # Activate set fontsize manually\n",
    "tabla.set_fontsize(8) # if ++fontsize is necessary ++colWidths\n",
    "plt.savefig('mytable.png')\n",
    "\n",
    "plt.show()"
   ]
  }
 ],
 "metadata": {
  "kernelspec": {
   "display_name": "Python [default]",
   "language": "python",
   "name": "python3"
  },
  "language_info": {
   "codemirror_mode": {
    "name": "ipython",
    "version": 3
   },
   "file_extension": ".py",
   "mimetype": "text/x-python",
   "name": "python",
   "nbconvert_exporter": "python",
   "pygments_lexer": "ipython3",
   "version": "3.5.2"
  }
 },
 "nbformat": 4,
 "nbformat_minor": 1
}
