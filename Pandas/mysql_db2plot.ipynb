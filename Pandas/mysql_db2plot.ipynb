{
 "cells": [
  {
   "cell_type": "code",
   "execution_count": 169,
   "metadata": {},
   "outputs": [
    {
     "name": "stdout",
     "output_type": "stream",
     "text": [
      "I have data to access mysql / db / on localhost\n"
     ]
    }
   ],
   "source": [
    "import os\n",
    "from os.path import expanduser   #home dir\n",
    "dbase='test'  ## TEST dbase feat\n",
    "table='db'\n",
    "home = expanduser(\"~\")\n",
    "with open(home+'/.'+table+'.mysql', 'r') as content:\n",
    "    allf = content.read().split('\\n')\n",
    "config = {\n",
    "  'user': allf[1],  'password': allf[2],  'host': allf[0],\n",
    "  'database': dbase,  'raise_on_warnings': True,\n",
    "}\n",
    "print('I have data to access mysql /',table,'/ on',allf[0])"
   ]
  },
  {
   "cell_type": "code",
   "execution_count": 176,
   "metadata": {},
   "outputs": [
    {
     "name": "stdout",
     "output_type": "stream",
     "text": [
      "SELECT * FROM db WHERE t > '2016-12-22 13:24:31.528599' ORDER BY t DESC\n",
      "loaded dataframe from MySQL. records: 2414\n"
     ]
    }
   ],
   "source": [
    "import mysql.connector\n",
    "import datetime\n",
    "from datetime import date\n",
    "\n",
    "days=7\n",
    "week = datetime.datetime.now() - datetime.timedelta(hours=24*days)\n",
    "weekp1 = datetime.datetime.now() - datetime.timedelta(hours=24*days+24)\n",
    "\n",
    "cnx = mysql.connector.connect(**config)\n",
    "#query =(\"SELECT * FROM \"+table+\" WHERE t > '\"+str(week)+\"' ORDER BY t DESC\")\n",
    "query=\"SELECT * FROM \"+table+\" WHERE t > '\"+str(week)+\"' ORDER BY t DESC\"\n",
    "print(query)\n",
    "import pandas as pd\n",
    "df = pd.read_sql( query , con=cnx)\n",
    "print('loaded dataframe from MySQL. records:', len(df))\n",
    "cnx.close()"
   ]
  },
  {
   "cell_type": "code",
   "execution_count": 177,
   "metadata": {},
   "outputs": [
    {
     "name": "stdout",
     "output_type": "stream",
     "text": [
      "I have data to access mysql / forecast / on localhost \n",
      " SELECT * FROM forecast WHERE t > '2016-12-21 13:24:31.528705'  ORDER BY t DESC\n"
     ]
    },
    {
     "data": {
      "text/html": [
       "<div>\n",
       "<table border=\"1\" class=\"dataframe\">\n",
       "  <thead>\n",
       "    <tr style=\"text-align: right;\">\n",
       "      <th></th>\n",
       "      <th>t</th>\n",
       "      <th>a</th>\n",
       "      <th>b</th>\n",
       "      <th>c</th>\n",
       "    </tr>\n",
       "  </thead>\n",
       "  <tbody>\n",
       "    <tr>\n",
       "      <th>0</th>\n",
       "      <td>2016-12-29 05:31:19</td>\n",
       "      <td>1.0</td>\n",
       "      <td>-5.0</td>\n",
       "      <td>0.0</td>\n",
       "    </tr>\n",
       "    <tr>\n",
       "      <th>1</th>\n",
       "      <td>2016-12-28 05:31:24</td>\n",
       "      <td>5.0</td>\n",
       "      <td>-4.0</td>\n",
       "      <td>1.0</td>\n",
       "    </tr>\n",
       "    <tr>\n",
       "      <th>2</th>\n",
       "      <td>2016-12-27 05:31:35</td>\n",
       "      <td>5.0</td>\n",
       "      <td>3.0</td>\n",
       "      <td>5.0</td>\n",
       "    </tr>\n",
       "    <tr>\n",
       "      <th>3</th>\n",
       "      <td>2016-12-26 05:31:26</td>\n",
       "      <td>9.0</td>\n",
       "      <td>1.0</td>\n",
       "      <td>5.0</td>\n",
       "    </tr>\n",
       "    <tr>\n",
       "      <th>4</th>\n",
       "      <td>2016-12-25 05:31:30</td>\n",
       "      <td>7.0</td>\n",
       "      <td>5.0</td>\n",
       "      <td>10.0</td>\n",
       "    </tr>\n",
       "    <tr>\n",
       "      <th>5</th>\n",
       "      <td>2016-12-24 05:31:27</td>\n",
       "      <td>5.0</td>\n",
       "      <td>3.0</td>\n",
       "      <td>7.0</td>\n",
       "    </tr>\n",
       "    <tr>\n",
       "      <th>6</th>\n",
       "      <td>2016-12-23 05:31:19</td>\n",
       "      <td>2.0</td>\n",
       "      <td>-1.0</td>\n",
       "      <td>5.0</td>\n",
       "    </tr>\n",
       "    <tr>\n",
       "      <th>7</th>\n",
       "      <td>2016-12-22 05:31:21</td>\n",
       "      <td>-2.0</td>\n",
       "      <td>-4.0</td>\n",
       "      <td>1.0</td>\n",
       "    </tr>\n",
       "  </tbody>\n",
       "</table>\n",
       "</div>"
      ],
      "text/plain": [
       "                    t    a    b     c\n",
       "0 2016-12-29 05:31:19  1.0 -5.0   0.0\n",
       "1 2016-12-28 05:31:24  5.0 -4.0   1.0\n",
       "2 2016-12-27 05:31:35  5.0  3.0   5.0\n",
       "3 2016-12-26 05:31:26  9.0  1.0   5.0\n",
       "4 2016-12-25 05:31:30  7.0  5.0  10.0\n",
       "5 2016-12-24 05:31:27  5.0  3.0   7.0\n",
       "6 2016-12-23 05:31:19  2.0 -1.0   5.0\n",
       "7 2016-12-22 05:31:21 -2.0 -4.0   1.0"
      ]
     },
     "execution_count": 177,
     "metadata": {},
     "output_type": "execute_result"
    }
   ],
   "source": [
    "table2='forecast'\n",
    "with open(home+'/.'+table2+'.mysql', 'r') as content:\n",
    "    allf = content.read().split('\\n')\n",
    "config = {\n",
    "  'user': allf[1],  'password': allf[2],  'host': allf[0],\n",
    "  'database': dbase,  'raise_on_warnings': True,\n",
    "}\n",
    "cnx2 = mysql.connector.connect(**config)\n",
    "query=\"SELECT * FROM \"+table2+\" WHERE t > '\"+str(weekp1)+\"'  ORDER BY t DESC\"\n",
    "print('I have data to access mysql /',table2,'/ on',allf[0],'\\n',query)\n",
    "dff = pd.read_sql( query , con=cnx2)\n",
    "cnx2.close()\n",
    "dff"
   ]
  },
  {
   "cell_type": "code",
   "execution_count": 178,
   "metadata": {},
   "outputs": [
    {
     "name": "stdout",
     "output_type": "stream",
     "text": [
      "0 x1,x2 736327.2300810185 736328.2200810185\n",
      "1 x1,x2 736326.2301388889 736327.2201388889\n",
      "2 x1,x2 736325.2302662038 736326.2202662037\n",
      "3 x1,x2 736324.2301620371 736325.2201620371\n",
      "4 x1,x2 736323.2302083333 736324.2202083333\n",
      "5 x1,x2 736322.2301736111 736323.2201736111\n",
      "6 x1,x2 736321.2300810185 736322.2200810185\n",
      "7 x1,x2 736320.2301041667 736321.2201041667\n"
     ]
    },
    {
     "data": {
      "image/png": "[encoded data removed]",
      "text/plain": [
       "<matplotlib.figure.Figure at 0x7f498e2d6fd0>"
      ]
     },
     "metadata": {},
     "output_type": "display_data"
    }
   ],
   "source": [
    "%matplotlib inline\n",
    "from matplotlib.dates import MonthLocator, WeekdayLocator, DateFormatter\n",
    "import matplotlib.pyplot as plt\n",
    "import matplotlib.dates as dt\n",
    "\n",
    "\n",
    "monthsFmt = DateFormatter(\"%H:%M(%d)\")\n",
    "fig, ax = plt.subplots( figsize=(6, 5), dpi=100 )\n",
    "ax.xaxis.set_major_formatter(monthsFmt)#nice diagonal format\n",
    "plt.plot( df.t, df.a ,'r.-')\n",
    "xmin, xmax = plt.gca().get_xlim()\n",
    "\n",
    "#dffrepl=dff.t[0].replace(hour=5, minute=30)  #not necessary\n",
    "#x1=datetime.datetime.strptime(dffrepl.strftime(\"%Y-%m-%d %H:%M:%S\"), '%Y-%m-%d %H:%M:%S' ).toordinal()+(3600*5)/24/3600\n",
    "\n",
    "#print('x1=',x1)\n",
    "#print('type   :', type(dff.t[0]) )\n",
    "#timenum=dff.t[0].to_pydatetime()\n",
    "#print('type   :', type(timenum) )\n",
    "#timenum=dt.date2num( timenum )\n",
    "#print('timenum:', timenum)\n",
    "#x1=timenum\n",
    "#timenum=matplotlib.dates.date2num(dff.t[0])\n",
    "#timenum=datetime.datetime.fromtimestamp( dff.t[0] )# float is required\n",
    "\n",
    "\n",
    "#x1=datetime.datetime.strptime( timenum, '%Y-%m-%d %H:%M:%S' )\n",
    "#print(x1)\n",
    "#x2=datetime.datetime.strptime(dffrepl.strftime(\"%Y-%m-%d %H:%M:%S\"), '%Y-%m-%d %H:%M:%S' ).toordinal()+3600*23.9/24/3600\n",
    "#print('x2',x2)\n",
    "for i in range(0, len(dff.index) ):\n",
    "#    x1= dt.date2num(  dff.t[i].to_pydatetime()  )  # problem from shell script\n",
    "    x1= dt.date2num(  pd.to_datetime( dff.t[i] ))\n",
    "    x2= x1 + 0.99\n",
    "    print(i,'x1,x2',x1,x2)\n",
    "\n",
    "    x1,x2=([x1,x2]-xmin)/(xmax-xmin)\n",
    "    p = plt.axhspan( dff.b[i], dff.a[i], xmin=x1,xmax=x2, facecolor='r', alpha=0.1)\n",
    "    #p = plt.axhspan( dff.b[0], dff.c[0], xmin=x1+1,xmax=x2, facecolor='r', alpha=0.1)\n",
    "    plt.axhline(y=dff.a[i], xmin=x1,xmax=x2, linewidth=1, color='r')\n",
    "    plt.axhline(y=dff.b[i], xmin=x1,xmax=x2, linewidth=1, color='r')\n",
    "\n",
    "\n",
    "plt.grid(True)\n",
    "plt.gcf().autofmt_xdate()\n",
    "plt.show()"
   ]
  }
 ],
 "metadata": {
  "kernelspec": {
   "display_name": "Python [Root]",
   "language": "python",
   "name": "Python [Root]"
  },
  "language_info": {
   "codemirror_mode": {
    "name": "ipython",
    "version": 3
   },
   "file_extension": ".py",
   "mimetype": "text/x-python",
   "name": "python",
   "nbconvert_exporter": "python",
   "pygments_lexer": "ipython3",
   "version": "3.5.2"
  }
 },
 "nbformat": 4,
 "nbformat_minor": 1
}
