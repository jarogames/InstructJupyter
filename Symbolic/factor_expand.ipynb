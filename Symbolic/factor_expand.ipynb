{
 "cells": [
  {
   "cell_type": "code",
   "execution_count": 33,
   "metadata": {},
   "outputs": [
    {
     "data": {
      "image/png": "[encoded data removed]",
      "text/latex": [
       "$$\\left(x + y\\right)^{2}$$"
      ],
      "text/plain": [
       "       2\n",
       "(x + y) "
      ]
     },
     "execution_count": 33,
     "metadata": {},
     "output_type": "execute_result"
    }
   ],
   "source": [
    "#from sympy import symbols, expand, factor\n",
    "from sympy import *\n",
    "init_printing(use_unicode=True)   # nice print\n",
    "init_printing(use_latex=True)   # nice print\n",
    "#init_printing(use_latex='mathjax')\n",
    "from IPython.display import display  # use display for the prinout\n",
    "\n",
    "x,t,y=symbols('x t y')\n",
    "\n",
    "expr=x**2 + 2*x*y + y**2\n",
    "#expr\n",
    "fe=factor(expr)\n",
    "fe"
   ]
  },
  {
   "cell_type": "code",
   "execution_count": 34,
   "metadata": {},
   "outputs": [
    {
     "data": {
      "image/png": "[encoded data removed]",
      "text/latex": [
       "$$x^{2} + 2 x y + y^{2}$$"
      ],
      "text/plain": [
       " 2            2\n",
       "x  + 2⋅x⋅y + y "
      ]
     },
     "execution_count": 34,
     "metadata": {},
     "output_type": "execute_result"
    }
   ],
   "source": [
    "expand(fe)"
   ]
  },
  {
   "cell_type": "code",
   "execution_count": 35,
   "metadata": {},
   "outputs": [
    {
     "data": {
      "image/png": "[encoded data removed]",
      "text/latex": [
       "$$2 x + 2 y$$"
      ],
      "text/plain": [
       "2⋅x + 2⋅y"
      ]
     },
     "execution_count": 35,
     "metadata": {},
     "output_type": "execute_result"
    }
   ],
   "source": [
    "diff( fe ,y )"
   ]
  },
  {
   "cell_type": "code",
   "execution_count": 36,
   "metadata": {},
   "outputs": [
    {
     "data": {
      "image/png": "[encoded data removed]",
      "text/latex": [
       "$$x^{2} + 2 x y$$"
      ],
      "text/plain": [
       " 2        \n",
       "x  + 2⋅x⋅y"
      ]
     },
     "execution_count": 36,
     "metadata": {},
     "output_type": "execute_result"
    }
   ],
   "source": [
    "integrate( diff (fe,x), x)"
   ]
  },
  {
   "cell_type": "code",
   "execution_count": 10,
   "metadata": {},
   "outputs": [
    {
     "data": {
      "image/png": "[encoded data removed]",
      "text/latex": [
       "$$\\frac{y^{2}}{2} + \\frac{y}{3} + \\frac{1}{12}$$"
      ],
      "text/plain": [
       " 2         \n",
       "y    y   1 \n",
       "── + ─ + ──\n",
       "2    3   12"
      ]
     },
     "execution_count": 10,
     "metadata": {},
     "output_type": "execute_result"
    }
   ],
   "source": [
    "integrate( fe, x ,  (x,0,1))"
   ]
  },
  {
   "cell_type": "code",
   "execution_count": 5,
   "metadata": {},
   "outputs": [
    {
     "data": {
      "image/png": "[encoded data removed]",
      "text/latex": [
       "$$\\pi$$"
      ],
      "text/plain": [
       "π"
      ]
     },
     "execution_count": 5,
     "metadata": {},
     "output_type": "execute_result"
    }
   ],
   "source": [
    "integrate( sin(x)/x, (x , -oo, +oo) )"
   ]
  },
  {
   "cell_type": "code",
   "execution_count": 6,
   "metadata": {},
   "outputs": [
    {
     "data": {
      "image/png": "[encoded data removed]",
      "text/latex": [
       "$$1$$"
      ],
      "text/plain": [
       "1"
      ]
     },
     "execution_count": 6,
     "metadata": {},
     "output_type": "execute_result"
    }
   ],
   "source": [
    "limit( sin(x)/x, x, 0)"
   ]
  },
  {
   "cell_type": "code",
   "execution_count": 18,
   "metadata": {},
   "outputs": [
    {
     "data": {
      "image/png": "[encoded data removed]",
      "text/latex": [
       "$$\\left [ - i y, \\quad i y\\right ]$$"
      ],
      "text/plain": [
       "[-ⅈ⋅y, ⅈ⋅y]"
      ]
     },
     "execution_count": 18,
     "metadata": {},
     "output_type": "execute_result"
    }
   ],
   "source": [
    "#solve( (x-1)*(x-sqrt(2)), x )\n",
    "solve( x**2 + y**2 , x )"
   ]
  },
  {
   "cell_type": "code",
   "execution_count": 30,
   "metadata": {},
   "outputs": [
    {
     "data": {
      "image/png": "[encoded data removed]",
      "text/latex": [
       "$$\\left\\{\\left ( 7.500005, \\quad 7.499995\\right )\\right\\}$$"
      ],
      "text/plain": [
       "{(7.500005, 7.499995)}"
      ]
     },
     "execution_count": 30,
     "metadata": {},
     "output_type": "execute_result"
    }
   ],
   "source": [
    "eq1= x + y - 15\n",
    "eq2= x - y - 0.00001\n",
    "linsolve( [ eq1, eq2 ] ,(x,y) )"
   ]
  },
  {
   "cell_type": "code",
   "execution_count": 9,
   "metadata": {},
   "outputs": [
    {
     "data": {
      "image/png": "[encoded data removed]",
      "text/latex": [
       "$$\\frac{d}{d t} N{\\left (t \\right )} = - \\frac{1}{2} N{\\left (t \\right )}$$"
      ],
      "text/plain": [
       "d          -N(t) \n",
       "──(N(t)) = ──────\n",
       "dt           2   "
      ]
     },
     "execution_count": 9,
     "metadata": {},
     "output_type": "execute_result"
    }
   ],
   "source": [
    "N=Function('N')\n",
    "df=Eq(  N(t).diff(t),  -N(t)/2)\n",
    "df"
   ]
  },
  {
   "cell_type": "code",
   "execution_count": 10,
   "metadata": {},
   "outputs": [
    {
     "data": {
      "image/png": "[encoded data removed]",
      "text/latex": [
       "$$N{\\left (t \\right )} = C_{1} e^{- \\frac{t}{2}}$$"
      ],
      "text/plain": [
       "           -t \n",
       "           ───\n",
       "            2 \n",
       "N(t) = C₁⋅ℯ   "
      ]
     },
     "execution_count": 10,
     "metadata": {},
     "output_type": "execute_result"
    }
   ],
   "source": [
    "dsolve( df , N(t))"
   ]
  },
  {
   "cell_type": "code",
   "execution_count": 11,
   "metadata": {},
   "outputs": [
    {
     "data": {
      "image/png": "[encoded data removed]",
      "text/latex": [
       "$$\\frac{m_{1} v_{1}}{\\sqrt{1 - \\frac{v_{1}^{2}}{c^{2}}}} = \\frac{c m_{1}}{2}$$"
      ],
      "text/plain": [
       "     m₁⋅v₁        c⋅m₁\n",
       "─────────────── = ────\n",
       "      _________    2  \n",
       "     ╱       2        \n",
       "    ╱      v₁         \n",
       "   ╱   1 - ───        \n",
       "  ╱          2        \n",
       "╲╱          c         "
      ]
     },
     "metadata": {},
     "output_type": "display_data"
    },
    {
     "data": {
      "image/png": "[encoded data removed]",
      "text/latex": [
       "$$\\left [ - \\frac{\\sqrt{5} c}{5}, \\quad \\frac{\\sqrt{5} c}{5}\\right ]$$"
      ],
      "text/plain": [
       "⎡-√5⋅c   √5⋅c⎤\n",
       "⎢──────, ────⎥\n",
       "⎣  5      5  ⎦"
      ]
     },
     "metadata": {},
     "output_type": "display_data"
    },
    {
     "data": {
      "image/png": "[encoded data removed]",
      "text/latex": [
       "$$\\left(\\frac{c^{2} m_{1}}{\\sqrt{1 - \\frac{v_{1}^{2}}{c^{2}}}} + \\frac{c^{2} m_{2}}{\\sqrt{1 - \\frac{v_{2}^{2}}{c^{2}}}}\\right)^{2} - \\left(\\frac{m_{1} v_{1}}{\\sqrt{1 - \\frac{v_{1}^{2}}{c^{2}}}} + \\frac{m_{2} v_{2}}{\\sqrt{1 - \\frac{v_{2}^{2}}{c^{2}}}}\\right)^{2} = - \\frac{m_{1}^{2} v_{1lab}^{2}}{1 - \\frac{v_{1lab}^{2}}{c^{2}}} + \\left(\\frac{c^{2} m_{1}}{\\sqrt{1 - \\frac{v_{1lab}^{2}}{c^{2}}}} + c^{2} m_{2}\\right)^{2}$$"
      ],
      "text/plain": [
       "                                   2                                          \n",
       "⎛      2                 2        ⎞                                       2   \n",
       "⎜     c ⋅m₁             c ⋅m₂     ⎟    ⎛     m₁⋅v₁             m₂⋅v₂     ⎞    \n",
       "⎜─────────────── + ───────────────⎟  - ⎜─────────────── + ───────────────⎟  = \n",
       "⎜      _________         _________⎟    ⎜      _________         _________⎟    \n",
       "⎜     ╱       2         ╱       2 ⎟    ⎜     ╱       2         ╱       2 ⎟    \n",
       "⎜    ╱      v₁         ╱      v₂  ⎟    ⎜    ╱      v₁         ╱      v₂  ⎟    \n",
       "⎜   ╱   1 - ───       ╱   1 - ─── ⎟    ⎜   ╱   1 - ───       ╱   1 - ─── ⎟    \n",
       "⎜  ╱          2      ╱          2 ⎟    ⎜  ╱          2      ╱          2 ⎟    \n",
       "⎝╲╱          c     ╲╱          c  ⎠    ⎝╲╱          c     ╲╱          c  ⎠    \n",
       "\n",
       "                                             2\n",
       "    2       2   ⎛        2                  ⎞ \n",
       "  m₁ ⋅v_1lab    ⎜       c ⋅m₁           2   ⎟ \n",
       "- ─────────── + ⎜─────────────────── + c ⋅m₂⎟ \n",
       "            2   ⎜      _____________        ⎟ \n",
       "      v_1lab    ⎜     ╱           2         ⎟ \n",
       "  1 - ───────   ⎜    ╱      v_1lab          ⎟ \n",
       "          2     ⎜   ╱   1 - ───────         ⎟ \n",
       "         c      ⎜  ╱            2           ⎟ \n",
       "                ⎝╲╱            c            ⎠ "
      ]
     },
     "metadata": {},
     "output_type": "display_data"
    },
    {
     "name": "stdout",
     "output_type": "stream",
     "text": [
      "i dont know how to really get the solution for..... v_1lab\n"
     ]
    },
    {
     "data": {
      "image/png": "[encoded data removed]",
      "text/latex": [
       "$$v_{1lab}$$"
      ],
      "text/plain": [
       "v_1lab"
      ]
     },
     "metadata": {},
     "output_type": "display_data"
    }
   ],
   "source": [
    "from sympy import *\n",
    "m1,m2,v,c,v1,v2, v_1lab = symbols( 'm1 m2 v c v1 v2 v_1lab')\n",
    "g1=1/sqrt(1-v1*v1/c/c) \n",
    "g2=1/sqrt(1-v2*v2/c/c) \n",
    "g_1lab=1/sqrt(1-v_1lab*v_1lab/c/c) \n",
    "\n",
    "p1=m1*v1*g1  #mvg\n",
    "p2=m2*v2*g2\n",
    "p_1lab=m1*v_1lab*g_1lab\n",
    "mc1= m1*c*c*g1\n",
    "mc2= m2*c*c*g2\n",
    "mc1lab=m1*c*c*g_1lab\n",
    "\n",
    "eqp1=Eq( p1, m1*c/2 )\n",
    "display( eqp1 )\n",
    "display( solve( eqp1, v1 ) )\n",
    "#eee1=Eq( a1 , a2 )  # mvg = mvg \n",
    "#eee1\n",
    "eee2=Eq( (mc1+mc2)**2-(p1+p2)**2 , (mc1lab + m2*c*c)**2 - (p_1lab)**2 )  # mvg = mvg \n",
    "display( eee2 )\n",
    "##mc1lab\n",
    "##ev1lab=solve( eee2 , v_1lab )   # extract v1lab\n",
    "print('i dont know how to really get the solution for.....', v_1lab)\n",
    "display(v_1lab)\n"
   ]
  },
  {
   "cell_type": "code",
   "execution_count": null,
   "metadata": {},
   "outputs": [],
   "source": [
    "ev1lab=solve( eee2 , v1 )   # extract v1\n",
    "display( ev1lab )"
   ]
  }
 ],
 "metadata": {
  "kernelspec": {
   "display_name": "Python [conda root]",
   "language": "python",
   "name": "conda-root-py"
  },
  "language_info": {
   "codemirror_mode": {
    "name": "ipython",
    "version": 3
   },
   "file_extension": ".py",
   "mimetype": "text/x-python",
   "name": "python",
   "nbconvert_exporter": "python",
   "pygments_lexer": "ipython3",
   "version": "3.5.2"
  }
 },
 "nbformat": 4,
 "nbformat_minor": 1
}
