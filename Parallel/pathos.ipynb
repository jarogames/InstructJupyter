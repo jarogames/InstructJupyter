{
 "cells": [
  {
   "cell_type": "markdown",
   "metadata": {},
   "source": [
    "Pathos\n",
    "----------\n",
    "\n",
    "old, but probably works with some python3.x, not sure wth 3.5 - ssh tunel not done\n",
    "\n",
    "**Works** inside jupyter - multiprocessing part\n",
    "\n",
    "** cluster ** i cannot really run it\n",
    "\n",
    "```/home/ojr/anaconda3/bin/ppserver.py -p 5654 -w 4 -t 30```\n",
    "\n",
    "Finaly it worked"
   ]
  },
  {
   "cell_type": "code",
   "execution_count": 8,
   "metadata": {},
   "outputs": [
    {
     "name": "stdout",
     "output_type": "stream",
     "text": [
      "Evaluate on 1 cpus\n",
      "non blocking with wait\n"
     ]
    },
    {
     "ename": "SyntaxError",
     "evalue": "EOL while scanning string literal (<string>, line 1)",
     "output_type": "error",
     "traceback": [
      "\u001b[0;36m  File \u001b[0;32m\"<string>\"\u001b[0;36m, line \u001b[0;32m1\u001b[0m\n\u001b[0;31m    from __main__'> import qhost\u001b[0m\n\u001b[0m                                ^\u001b[0m\n\u001b[0;31mSyntaxError\u001b[0m\u001b[0;31m:\u001b[0m EOL while scanning string literal\n"
     ]
    }
   ],
   "source": [
    "from pathos.parallel import stats\n",
    "from pathos.parallel import ParallelPool as Pool\n",
    "import time\n",
    "pool = Pool()\n",
    "\n",
    "def qhost(id):\n",
    "    import socket\n",
    "    import time\n",
    "    from math import sin\n",
    "    sum=0\n",
    "    for i in range(1,1000):\n",
    "        for j in range(1,10000):\n",
    "            sum=sum+sin(i/j)\n",
    "    return \"Rank: %d -- %s. %f\" % (id, socket.gethostname(),sum+id)\n",
    "\n",
    "\n",
    "pool.ncpus = 1\n",
    "print(\"Evaluate on \"+str(pool.ncpus)+\" cpus\")\n",
    "pool.servers = ('localhost:5653','localhost:5654',)\n",
    "\n",
    "##     >>> # do an asynchronous map, then get the results\n",
    "print(\"non blocking with wait\")\n",
    "res5 = pool.amap( qhost, range(12) )\n",
    "while not res5.ready():\n",
    "         time.sleep(1)\n",
    "         print(stats()  )\n",
    "\n",
    "print( \"=========\")\n",
    "print(  \"\\n\".join(res5.get()) )\n",
    "pool.close()\n",
    "pool.join()"
   ]
  },
  {
   "cell_type": "markdown",
   "metadata": {},
   "source": [
    "multiprocessing is ok - but only cores"
   ]
  },
  {
   "cell_type": "code",
   "execution_count": 7,
   "metadata": {},
   "outputs": [
    {
     "name": "stdout",
     "output_type": "stream",
     "text": [
      "Finished in /home/ojr/02_GIT/TESTGITGRAB/ALL/InstructJupyter/Parallel/69\n",
      "Finished in /home/ojr/02_GIT/TESTGITGRAB/ALL/InstructJupyter/Parallel/32\n",
      "Finished in /home/ojr/02_GIT/TESTGITGRAB/ALL/InstructJupyter/Parallel/39\n",
      "Finished in /home/ojr/02_GIT/TESTGITGRAB/ALL/InstructJupyter/Parallel/71\n",
      "Finished in /home/ojr/02_GIT/TESTGITGRAB/ALL/InstructJupyter/Parallel/67\n",
      "Finished in /home/ojr/02_GIT/TESTGITGRAB/ALL/InstructJupyter/Parallel/77\n",
      "Finished in /home/ojr/02_GIT/TESTGITGRAB/ALL/InstructJupyter/Parallel/81\n",
      "Finished in /home/ojr/02_GIT/TESTGITGRAB/ALL/InstructJupyter/Parallel/59\n",
      "Finished in /home/ojr/02_GIT/TESTGITGRAB/ALL/InstructJupyter/Parallel/18\n",
      "Finished in /home/ojr/02_GIT/TESTGITGRAB/ALL/InstructJupyter/Parallel/19\n",
      "Finished in /home/ojr/02_GIT/TESTGITGRAB/ALL/InstructJupyter/Parallel/82\n",
      "Finished in /home/ojr/02_GIT/TESTGITGRAB/ALL/InstructJupyter/Parallel/51\n",
      "Finished in /home/ojr/02_GIT/TESTGITGRAB/ALL/InstructJupyter/Parallel/37\n",
      "Finished in /home/ojr/02_GIT/TESTGITGRAB/ALL/InstructJupyter/Parallel/50\n",
      "Finished in /home/ojr/02_GIT/TESTGITGRAB/ALL/InstructJupyter/Parallel/46\n",
      "Finished in /home/ojr/02_GIT/TESTGITGRAB/ALL/InstructJupyter/Parallel/88\n"
     ]
    }
   ],
   "source": [
    "import pathos.multiprocessing as mp\n",
    "import os\n",
    "import random\n",
    "import time\n",
    "\n",
    "class Pool_set:\n",
    "    def pool_fun(directory_name):\n",
    "         cwd=os.getcwd()\n",
    "         directory=os.path.join(cwd,str(directory_name))\n",
    "         print(\"Finished in \"+directory)\n",
    "         time.sleep(1)\n",
    "\n",
    "if __name__ == '__main__':\n",
    "\n",
    "\n",
    "    config=[]\n",
    "    pool_set = Pool_set\n",
    "    for i in (random.sample(range(1,100),4*4)):\n",
    "        config.append(i)\n",
    "\n",
    "    pool_size = mp.cpu_count()\n",
    "    pool = mp.Pool(processes=pool_size,maxtasksperchild=1,)\n",
    "\n",
    "    pool_outputs = pool.map(pool_set.pool_fun,config)\n",
    "    pool.close()\n",
    "    pool.join()\n",
    "    \n"
   ]
  }
 ],
 "metadata": {
  "kernelspec": {
   "display_name": "Python [default]",
   "language": "python",
   "name": "python3"
  },
  "language_info": {
   "codemirror_mode": {
    "name": "ipython",
    "version": 3
   },
   "file_extension": ".py",
   "mimetype": "text/x-python",
   "name": "python",
   "nbconvert_exporter": "python",
   "pygments_lexer": "ipython3",
   "version": "3.5.2"
  }
 },
 "nbformat": 4,
 "nbformat_minor": 1
}
