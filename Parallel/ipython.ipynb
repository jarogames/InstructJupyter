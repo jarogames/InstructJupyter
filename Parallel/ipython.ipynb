{
 "cells": [
  {
   "cell_type": "markdown",
   "metadata": {},
   "source": [
    "ipyparallel\n",
    "---------------\n",
    "Create first the profile ```ipython profile create --parallel --profile=mycluster```\n",
    "\n",
    "Ah NO not sure now ...\n",
    "pay attention to PATH - ipcluster didnt work first\n",
    "\n",
    "```ipcluster  start -n 8  ```\n",
    "\n",
    "and after run \n"
   ]
  },
  {
   "cell_type": "code",
   "execution_count": 19,
   "metadata": {},
   "outputs": [
    {
     "data": {
      "text/plain": [
       "[0, 1]"
      ]
     },
     "execution_count": 19,
     "metadata": {},
     "output_type": "execute_result"
    }
   ],
   "source": [
    "from ipyparallel import Client\n",
    "c = Client()\n",
    "c.ids"
   ]
  },
  {
   "cell_type": "code",
   "execution_count": 20,
   "metadata": {},
   "outputs": [
    {
     "data": {
      "text/plain": [
       "<DirectView [0, 1]>"
      ]
     },
     "execution_count": 20,
     "metadata": {},
     "output_type": "execute_result"
    }
   ],
   "source": [
    "dv = c[:]\n",
    "dv"
   ]
  },
  {
   "cell_type": "code",
   "execution_count": 21,
   "metadata": {},
   "outputs": [
    {
     "data": {
      "text/plain": [
       "[None, None]"
      ]
     },
     "execution_count": 21,
     "metadata": {},
     "output_type": "execute_result"
    }
   ],
   "source": [
    "def get_engine_pid():\n",
    "    import os\n",
    "    print('getenginepid',os.getpid())\n",
    "    return os.getpid()\n",
    "dv.apply_sync(get_engine_pid)\n",
    "user_ids = list(range(10))\n",
    "dv.scatter('user_id_chunk', user_ids).get()"
   ]
  },
  {
   "cell_type": "code",
   "execution_count": 22,
   "metadata": {},
   "outputs": [
    {
     "name": "stdout",
     "output_type": "stream",
     "text": [
      "[stdout:0] Max 4\n",
      "[stdout:1] Max 9\n"
     ]
    }
   ],
   "source": [
    "%%px\n",
    "#print(\"Len\", len(user_id_chunk))\n",
    "print(\"Max\", max(user_id_chunk))"
   ]
  },
  {
   "cell_type": "code",
   "execution_count": 23,
   "metadata": {},
   "outputs": [
    {
     "name": "stdout",
     "output_type": "stream",
     "text": [
      "[stdout:0] bar on pid 30937\n",
      "[stdout:1] bar on pid 30938\n"
     ]
    }
   ],
   "source": [
    "%%px\n",
    "import os\n",
    "foo = 'bar on pid {}'.format(os.getpid())\n",
    "print(foo)"
   ]
  },
  {
   "cell_type": "code",
   "execution_count": 24,
   "metadata": {},
   "outputs": [
    {
     "data": {
      "text/plain": [
       "['bar on pid 30937', 'bar on pid 30938']"
      ]
     },
     "execution_count": 24,
     "metadata": {},
     "output_type": "execute_result"
    }
   ],
   "source": [
    "dv['foo']"
   ]
  },
  {
   "cell_type": "code",
   "execution_count": 25,
   "metadata": {},
   "outputs": [
    {
     "data": {
      "text/plain": [
       "\u001b[0;31mOut[0:11]: \u001b[0m['ID:0', 'ID:1', 'ID:2', 'ID:3', 'ID:4']"
      ]
     },
     "metadata": {},
     "output_type": "display_data"
    },
    {
     "data": {
      "text/plain": [
       "\u001b[0;31mOut[1:11]: \u001b[0m['ID:5', 'ID:6', 'ID:7', 'ID:8', 'ID:9']"
      ]
     },
     "metadata": {},
     "output_type": "display_data"
    }
   ],
   "source": [
    "%%px \n",
    "def test(user_id):\n",
    "    return \"ID:{}\".format(user_id)\n",
    "res=list(map(test,user_id_chunk))\n",
    "res"
   ]
  }
 ],
 "metadata": {
  "kernelspec": {
   "display_name": "Python [default]",
   "language": "python",
   "name": "python3"
  },
  "language_info": {
   "codemirror_mode": {
    "name": "ipython",
    "version": 3
   },
   "file_extension": ".py",
   "mimetype": "text/x-python",
   "name": "python",
   "nbconvert_exporter": "python",
   "pygments_lexer": "ipython3",
   "version": "3.5.2"
  }
 },
 "nbformat": 4,
 "nbformat_minor": 1
}
