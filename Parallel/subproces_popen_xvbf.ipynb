{
 "cells": [
  {
   "cell_type": "markdown",
   "metadata": {},
   "source": [
    "Test srim\n",
    "------------\n",
    "Chci kontrolu sw, spousteni z tmp, xvfb (xvfb wrapper, pyvirtualdisplay 2016/10/3)"
   ]
  },
  {
   "cell_type": "code",
   "execution_count": 5,
   "metadata": {},
   "outputs": [
    {
     "name": "stdout",
     "output_type": "stream",
     "text": [
      "CMD ended with string b''\n"
     ]
    }
   ],
   "source": [
    "from xvfbwrapper import Xvfb\n",
    "import os\n",
    "import subprocess\n",
    "\n",
    "#vdisplay = Xvfb(width=1280, height=740, colordepth=16)\n",
    "#vdisplay.start()\n",
    "process = subprocess.Popen('evince', stdout=subprocess.PIPE)\n",
    "#process = subprocess.Popen('evince'.split(), stdout=subprocess.PIPE )\n",
    "output, error = process.communicate()\n",
    "print('CMD ended with string',output)\n",
    "# launch stuff inside virtual display here.\n",
    "#vdisplay.stop()"
   ]
  },
  {
   "cell_type": "code",
   "execution_count": 24,
   "metadata": {},
   "outputs": [
    {
     "name": "stdout",
     "output_type": "stream",
     "text": [
      "============= IN BACKGROUND==============\n",
      "I am over\n"
     ]
    }
   ],
   "source": [
    "print('============= IN BACKGROUND==============')\n",
    "process = subprocess.Popen('echo ahoj; echo add;sleep 8',  shell=True )\n",
    "print('I am over')"
   ]
  },
  {
   "cell_type": "code",
   "execution_count": 1,
   "metadata": {},
   "outputs": [
    {
     "name": "stdout",
     "output_type": "stream",
     "text": [
      "i... checking PATH\n"
     ]
    }
   ],
   "source": [
    "import NuPhyPy.srim.srim as srim\n",
    "srim.checkfiles()"
   ]
  },
  {
   "cell_type": "code",
   "execution_count": null,
   "metadata": {},
   "outputs": [],
   "source": []
  }
 ],
 "metadata": {
  "kernelspec": {
   "display_name": "Python [default]",
   "language": "python",
   "name": "python3"
  },
  "language_info": {
   "codemirror_mode": {
    "name": "ipython",
    "version": 3
   },
   "file_extension": ".py",
   "mimetype": "text/x-python",
   "name": "python",
   "nbconvert_exporter": "python",
   "pygments_lexer": "ipython3",
   "version": "3.5.2"
  }
 },
 "nbformat": 4,
 "nbformat_minor": 1
}
