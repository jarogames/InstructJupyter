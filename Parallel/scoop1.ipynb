{
 "cells": [
  {
   "cell_type": "markdown",
   "metadata": {},
   "source": [
    "SCOOP\n",
    "----------\n",
    "doesnot work from commandline ```python -m scoop -n 4 sco.py```"
   ]
  },
  {
   "cell_type": "code",
   "execution_count": 5,
   "metadata": {},
   "outputs": [
    {
     "name": "stdout",
     "output_type": "stream",
     "text": [
      "Hello World from Future #0\n",
      "Hello World from Future #1\n",
      "Hello World from Future #2\n",
      "Hello World from Future #3\n",
      "Hello World from Future #4\n",
      "Hello World from Future #5\n",
      "Hello World from Future #6\n",
      "Hello World from Future #7\n",
      "Hello World from Future #8\n",
      "Hello World from Future #9\n",
      "Hello World from Future #10\n",
      "Hello World from Future #11\n",
      "Hello World from Future #12\n",
      "Hello World from Future #13\n",
      "Hello World from Future #14\n",
      "Hello World from Future #15\n"
     ]
    }
   ],
   "source": [
    "from __future__ import print_function\n",
    "from scoop import futures\n",
    "import time\n",
    "\n",
    "def helloWorld(value):\n",
    "    time.sleep(1)\n",
    "    with open(\"test.txt\", \"a\") as myfile:\n",
    "        myfile.write(\"appended text\",value)\n",
    "    return \"Hello World from Future #{0}\".format(value)\n",
    "\n",
    "if __name__ == \"__main__\":\n",
    "    returnValues = list(  futures.map(helloWorld, range(16))   ) \n",
    "    print(\"\\n\".join(returnValues))"
   ]
  }
 ],
 "metadata": {
  "kernelspec": {
   "display_name": "Python [default]",
   "language": "python",
   "name": "python3"
  },
  "language_info": {
   "codemirror_mode": {
    "name": "ipython",
    "version": 3
   },
   "file_extension": ".py",
   "mimetype": "text/x-python",
   "name": "python",
   "nbconvert_exporter": "python",
   "pygments_lexer": "ipython3",
   "version": "3.5.2"
  }
 },
 "nbformat": 4,
 "nbformat_minor": 1
}
