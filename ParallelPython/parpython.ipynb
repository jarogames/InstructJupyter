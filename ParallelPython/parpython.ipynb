{
 "cells": [
  {
   "cell_type": "markdown",
   "metadata": {},
   "source": [
    "# Parallel directory:\n",
    "\n",
    "http://docs.celeryproject.org/en/latest/getting-started/first-steps-with-celery.html\n",
    "\n",
    "###MPI\n",
    " - pp ... tried\n",
    " \n",
    " \n",
    "###Cluster\n",
    "\n",
    " - Celery ... needs broker system ... rabbit, redis\n",
    " \n",
    " - **pp** ... parallel python, http://www.parallelpython.com/content/view/15/30/#QUICKSMP, NICE EXAMPLES \n",
    "\n",
    " \n",
    " - pypar ... developed, no wiki\n",
    " \n",
    " - SCOOP .. looks uptodate\n",
    "\n",
    " - seppo ... on pyro, 2008\n",
    " \n",
    " - superpy ... http://www.findbestopensource.com/product/superpy   2010\n",
    " \n",
    " - deap ... uptodate, genetic, scientific http://deap.readthedocs.io/en/master/examples/ga_onemax.html http://datascience.stackexchange.com/questions/15710/what-is-the-one-max-problem-in-detail \n",
    " \n",
    " \n",
    " -disco ... WEB gui, github, http://disco.readthedocs.io/en/latest/intro.html  https://github.com/discoproject/disco/blob/master/doc/intro.rst\n",
    " \n",
    " - job_stream ... brand new, depends on boost, miniconda environments needed\n",
    " - jug ... uptodate, ```jug status```,  shared(NFS) filesystem OR redis server needed\n",
    " "
   ]
  },
  {
   "cell_type": "code",
   "execution_count": 16,
   "metadata": {},
   "outputs": [
    {
     "name": "stdout",
     "output_type": "stream",
     "text": [
      "zacatek [-5, -4, -3, -2, -1, 0, 1, 2, 3, 4, 5]\n",
      "konec [5, 4, 3, 2, 1, 0, 1, 2, 3, 4, 5] [5, 4, 3, 2, 1, 0, 1, 2, 3, 4, 5]\n"
     ]
    }
   ],
   "source": [
    "# SCOOP\n",
    "# Script to be launched with: python -m scoop scriptName.py\n",
    "import random\n",
    "from scoop import futures\n",
    "data = [r for r in range(-5,6)]\n",
    "print('zacatek', data)\n",
    "if __name__ == '__main__':\n",
    "    # Python's standard serial function\n",
    "    dataSerial = list(map(abs, data))\n",
    "\n",
    "    # SCOOP's parallel function\n",
    "    dataParallel = list(futures.map(abs, data))\n",
    "\n",
    "    assert dataSerial == dataParallel\n",
    "    \n",
    "    print('konec', dataParallel , dataSerial)"
   ]
  },
  {
   "cell_type": "code",
   "execution_count": 17,
   "metadata": {},
   "outputs": [
    {
     "ename": "ImportError",
     "evalue": "No module named 'job_stream'",
     "output_type": "error",
     "traceback": [
      "\u001b[1;31m--------------------------------------------------------------------------\u001b[0m",
      "\u001b[1;31mImportError\u001b[0m                              Traceback (most recent call last)",
      "\u001b[1;32m<ipython-input-17-a5cc47399493>\u001b[0m in \u001b[0;36m<module>\u001b[1;34m()\u001b[0m\n\u001b[0;32m      1\u001b[0m \u001b[1;31m#JOB_STREAM\u001b[0m\u001b[1;33m\u001b[0m\u001b[1;33m\u001b[0m\u001b[0m\n\u001b[0;32m      2\u001b[0m \u001b[1;31m# Import the main Work object that manages the computation's graph.\u001b[0m\u001b[1;33m\u001b[0m\u001b[1;33m\u001b[0m\u001b[0m\n\u001b[1;32m----> 3\u001b[1;33m \u001b[1;32mfrom\u001b[0m \u001b[0mjob_stream\u001b[0m\u001b[1;33m.\u001b[0m\u001b[0minline\u001b[0m \u001b[1;32mimport\u001b[0m \u001b[0mWork\u001b[0m\u001b[1;33m\u001b[0m\u001b[0m\n\u001b[0m\u001b[0;32m      4\u001b[0m \u001b[1;33m\u001b[0m\u001b[0m\n\u001b[0;32m      5\u001b[0m \u001b[1;31m# Start by declaring work based on the list of numbers between 0 and 999 as a\u001b[0m\u001b[1;33m\u001b[0m\u001b[1;33m\u001b[0m\u001b[0m\n",
      "\u001b[1;31mImportError\u001b[0m: No module named 'job_stream'"
     ]
    }
   ],
   "source": [
    "#JOB_STREAM\n",
    "# Import the main Work object that manages the computation's graph.\n",
    "from job_stream.inline import Work\n",
    "\n",
    "# Start by declaring work based on the list of numbers between 0 and 999 as a\n",
    "# piece of `Work`.  When the w object goes out of context, the job_stream will\n",
    "# be executed.\n",
    "with Work(range(1000)) as w:\n",
    "    # For each of those numbers, see if that number is prime.\n",
    "    @w.job\n",
    "    def isPrime(x):\n",
    "        for i in range(2, int(x ** 0.5) + 1):\n",
    "            if x % i == 0:\n",
    "                return\n",
    "        print(x)"
   ]
  },
  {
   "cell_type": "code",
   "execution_count": 18,
   "metadata": {},
   "outputs": [
    {
     "ename": "ImportError",
     "evalue": "No module named 'jug'",
     "output_type": "error",
     "traceback": [
      "\u001b[1;31m--------------------------------------------------------------------------\u001b[0m",
      "\u001b[1;31mImportError\u001b[0m                              Traceback (most recent call last)",
      "\u001b[1;32m<ipython-input-18-c999fff6d557>\u001b[0m in \u001b[0;36m<module>\u001b[1;34m()\u001b[0m\n\u001b[0;32m      1\u001b[0m \u001b[1;31m################ #    JUG\u001b[0m\u001b[1;33m\u001b[0m\u001b[1;33m\u001b[0m\u001b[0m\n\u001b[1;32m----> 2\u001b[1;33m \u001b[1;32mfrom\u001b[0m \u001b[0mjug\u001b[0m \u001b[1;32mimport\u001b[0m \u001b[0mTaskGenerator\u001b[0m\u001b[1;33m\u001b[0m\u001b[0m\n\u001b[0m\u001b[0;32m      3\u001b[0m \u001b[1;32mfrom\u001b[0m \u001b[0mtime\u001b[0m \u001b[1;32mimport\u001b[0m \u001b[0msleep\u001b[0m\u001b[1;33m\u001b[0m\u001b[0m\n\u001b[0;32m      4\u001b[0m \u001b[1;33m\u001b[0m\u001b[0m\n\u001b[0;32m      5\u001b[0m \u001b[1;33m@\u001b[0m\u001b[0mTaskGenerator\u001b[0m\u001b[1;33m\u001b[0m\u001b[0m\n",
      "\u001b[1;31mImportError\u001b[0m: No module named 'jug'"
     ]
    }
   ],
   "source": [
    "################ #    JUG \n",
    "from jug import TaskGenerator\n",
    "from time import sleep\n",
    "\n",
    "@TaskGenerator\n",
    "def is_prime(n):\n",
    "    sleep(1.)\n",
    "    for j in xrange(2,n-1):\n",
    "        if (n % j) == 0:\n",
    "            return False\n",
    "    return True\n",
    "\n",
    "primes100 = map(is_prime, xrange(2,101))\n"
   ]
  },
  {
   "cell_type": "code",
   "execution_count": 19,
   "metadata": {},
   "outputs": [
    {
     "ename": "SyntaxError",
     "evalue": "Missing parentheses in call to 'print' (<ipython-input-19-5b54096f44a5>, line 34)",
     "output_type": "error",
     "traceback": [
      "\u001b[1;36m  File \u001b[1;32m\"<ipython-input-19-5b54096f44a5>\"\u001b[1;36m, line \u001b[1;32m34\u001b[0m\n\u001b[1;33m    \"\"\"\u001b[0m\n\u001b[1;37m       \n^\u001b[0m\n\u001b[1;31mSyntaxError\u001b[0m\u001b[1;31m:\u001b[0m Missing parentheses in call to 'print'\n"
     ]
    }
   ],
   "source": [
    "#!/usr/bin/python\n",
    "############################ PP\n",
    "# File: sum_primes.py\n",
    "# Author: VItalii Vanovschi\n",
    "# Desc: This program demonstrates parallel computations with pp module\n",
    "# It calculates the sum of prime numbers below a given integer in parallel\n",
    "# Parallel Python Software: http://www.parallelpython.com\n",
    "\n",
    "import math, sys, time\n",
    "import pp\n",
    "\n",
    "def isprime(n):\n",
    "    \"\"\"Returns True if n is prime and False otherwise\"\"\"\n",
    "    if not isinstance(n, int):\n",
    "        raise TypeError(\"argument passed to is_prime is not of 'int' type\")\n",
    "    if n < 2:\n",
    "        return False\n",
    "    if n == 2:\n",
    "        return True\n",
    "    max = int(math.ceil(math.sqrt(n)))\n",
    "    i = 2\n",
    "    while i <= max:\n",
    "        if n % i == 0:\n",
    "            return False\n",
    "        i += 1\n",
    "    return True\n",
    "\n",
    "def sum_primes(n):\n",
    "    \"\"\"Calculates sum of all primes below given integer n\"\"\"\n",
    "    return sum([x for x in xrange(2,n) if isprime(x)])\n",
    "\n",
    "print \"\"\"Usage: python sum_primes.py [ncpus]\n",
    "    [ncpus] - the number of workers to run in parallel, \n",
    "    if omitted it will be set to the number of processors in the system\n",
    "\"\"\"\n",
    "\n",
    "# tuple of all parallel python servers to connect with\n",
    "ppservers = ()\n",
    "#ppservers = (\"10.0.0.1\",)\n",
    "\n",
    "if len(sys.argv) > 1:\n",
    "    ncpus = int(sys.argv[1])\n",
    "    # Creates jobserver with ncpus workers\n",
    "    job_server = pp.Server(ncpus, ppservers=ppservers)\n",
    "else:\n",
    "    # Creates jobserver with automatically detected number of workers\n",
    "    job_server = pp.Server(ppservers=ppservers)\n",
    "\n",
    "print \"Starting pp with\", job_server.get_ncpus(), \"workers\"\n",
    "\n",
    "# Submit a job of calulating sum_primes(100) for execution. \n",
    "# sum_primes - the function\n",
    "# (100,) - tuple with arguments for sum_primes\n",
    "# (isprime,) - tuple with functions on which function sum_primes depends\n",
    "# (\"math\",) - tuple with module names which must be imported before sum_primes execution\n",
    "# Execution starts as soon as one of the workers will become available\n",
    "job1 = job_server.submit(sum_primes, (100,), (isprime,), (\"math\",))\n",
    "\n",
    "# Retrieves the result calculated by job1\n",
    "# The value of job1() is the same as sum_primes(100)\n",
    "# If the job has not been finished yet, execution will wait here until result is available\n",
    "result = job1()\n",
    "\n",
    "print \"Sum of primes below 100 is\", result\n",
    "\n",
    "start_time = time.time()\n",
    "\n",
    "# The following submits 8 jobs and then retrieves the results\n",
    "inputs = (100000, 100100, 100200, 100300, 100400, 100500, 100600, 100700)\n",
    "jobs = [(input, job_server.submit(sum_primes,(input,), (isprime,), (\"math\",))) for input in inputs]\n",
    "for input, job in jobs:\n",
    "    print \"Sum of primes below\", input, \"is\", job()\n",
    "\n",
    "print \"Time elapsed: \", time.time() - start_time, \"s\"\n",
    "job_server.print_stats()\n",
    "\n",
    "# Parallel Python Software: http://www.parallelpython.com"
   ]
  }
 ],
 "metadata": {
  "kernelspec": {
   "display_name": "Python [Root]",
   "language": "python",
   "name": "Python [Root]"
  },
  "language_info": {
   "codemirror_mode": {
    "name": "ipython",
    "version": 3
   },
   "file_extension": ".py",
   "mimetype": "text/x-python",
   "name": "python",
   "nbconvert_exporter": "python",
   "pygments_lexer": "ipython3",
   "version": "3.5.2"
  }
 },
 "nbformat": 4,
 "nbformat_minor": 1
}
