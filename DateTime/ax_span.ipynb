{
 "cells": [
  {
   "cell_type": "code",
   "execution_count": 2,
   "metadata": {},
   "outputs": [
    {
     "name": "stdout",
     "output_type": "stream",
     "text": [
      "2016-12-28 15:35:28.235327\n",
      "2016-12-28 15:35:28\n",
      "txmin= 2016-10-12 11:48:20\n",
      "736247.491898 736251.491898 0.377025462949\n"
     ]
    },
    {
     "data": {
      "image/png": "[encoded data removed]",
      "text/plain": [
       "<matplotlib.figure.Figure at 0x7f2fb40c53c8>"
      ]
     },
     "metadata": {},
     "output_type": "display_data"
    },
    {
     "name": "stdout",
     "output_type": "stream",
     "text": [
      "736249.0\n"
     ]
    }
   ],
   "source": [
    "%matplotlib inline\n",
    "import datetime\n",
    "import matplotlib.pyplot as plt\n",
    "import matplotlib.dates as mdates\n",
    "\n",
    "    \n",
    "today = datetime.datetime.now()\n",
    "print( str(today) )\n",
    "print( today.strftime('%Y-%m-%d %H:%M:%S') )\n",
    "\n",
    "datetime.datetime.strptime('','')\n",
    "\n",
    "tt= ['2016-10-10 11:48:20', '2016-10-14 11:48:20' ]\n",
    "\n",
    "t=[datetime.datetime.strptime(elem,'%Y-%m-%d %H:%M:%S') for elem in tt]\n",
    "\n",
    "p=plt.plot( t , [2,3] ,'r.')\n",
    "txmin='2016-10-12 11:48:20'\n",
    "txmin= datetime.datetime.strptime(txmin, '%Y-%m-%d %H:%M:%S' )\n",
    "print( 'txmin=', txmin )\n",
    "xmin, xmax = plt.gca().get_xlim()\n",
    "xtag=(mdates.datestr2num('10/12/2016')-xmin)/(xmax-xmin)\n",
    "print( xmin,xmax, xtag)\n",
    "txmin=xtag\n",
    "txmax=0.98\n",
    "\n",
    "q=plt.axhspan( 2.1,2.2, xmin=txmin,xmax=txmax, facecolor='red', alpha=0.1)\n",
    "#q=plt.axvspan(*mdates.datestr2num(['10/11/2016', '10/13/2016']), facecolor='b', alpha=0.1 )\n",
    "q=plt.axhspan( 2.3,2.7, xmin=xtag, facecolor='y', alpha=0.1 )\n",
    "plt.show()\n",
    "print( mdates.datestr2num('10/12/2016')  )\n",
    "#t"
   ]
  }
 ],
 "metadata": {
  "kernelspec": {
   "display_name": "Python [Root]",
   "language": "python",
   "name": "Python [Root]"
  },
  "language_info": {
   "codemirror_mode": {
    "name": "ipython",
    "version": 3
   },
   "file_extension": ".py",
   "mimetype": "text/x-python",
   "name": "python",
   "nbconvert_exporter": "python",
   "pygments_lexer": "ipython3",
   "version": "3.5.2"
  }
 },
 "nbformat": 4,
 "nbformat_minor": 1
}
