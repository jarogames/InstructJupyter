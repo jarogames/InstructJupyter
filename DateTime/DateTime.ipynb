{
 "cells": [
  {
   "cell_type": "code",
   "execution_count": 3,
   "metadata": {},
   "outputs": [
    {
     "name": "stdout",
     "output_type": "stream",
     "text": [
      "1800.0\n"
     ]
    },
    {
     "data": {
      "text/plain": [
       "1800.0"
      ]
     },
     "execution_count": 3,
     "metadata": {},
     "output_type": "execute_result"
    }
   ],
   "source": [
    "import datetime \n",
    "a=datetime.datetime.now()\n",
    "do = datetime.timedelta(hours=0.5)\n",
    "a2=a-do\n",
    "#print( a.total_seconds()  ) \n",
    "print( str(do.total_seconds()  ) ) \n",
    "      \n",
    "d=a-a2\n",
    "d.total_seconds()\n",
    "#w=a-od\n",
    "#w.toordinal()\n",
    "#a.total_seconds()\n",
    "#d = datetime.datetime.utcnow()\n",
    "#epoch = datetime.datetime(1970,1,1)\n",
    "#t = (d - epoch).total_seconds()\n",
    "\n"
   ]
  },
  {
   "cell_type": "code",
   "execution_count": null,
   "metadata": {},
   "outputs": [],
   "source": [
    "import mysql.connector\n",
    "import datetime\n",
    "from os.path import expanduser   #home dir\n",
    "import numpy as np\n",
    "import pandas as pd\n",
    "dbase='test'  ## TEST dbase feat\n",
    "\n",
    "home = expanduser(\"~\")\n",
    "today = datetime.datetime.now()\n",
    "one_day = datetime.timedelta(hours=24)\n",
    "week = today - one_day\n",
    "\n",
    "table='ping8'\n",
    "print( table ,'============================')\n",
    "with open(home+'/.'+table+'.mysql', 'r') as content:\n",
    "    allf = content.read().split('\\n')\n",
    "print(allf[0])\n",
    "config = {\n",
    "  'user': allf[1],  'password': allf[2],  'host': allf[0],\n",
    "  'database': dbase,  'raise_on_warnings': True,\n",
    "}\n",
    "cnx = mysql.connector.connect(**config)\n",
    "cursor = cnx.cursor()\n",
    "query =(\"SELECT * FROM \"+table+\" WHERE t > '\"+str(week)+\"' ORDER BY t DESC\")\n",
    "print(query)\n",
    "cursor.execute(query)\n",
    "listp=np.array( list([i for i in cursor]) )\n",
    "dfp=pd.DataFrame( listp, columns=cursor.column_names )\n",
    "#print(dfp)"
   ]
  },
  {
   "cell_type": "code",
   "execution_count": null,
   "metadata": {},
   "outputs": [],
   "source": [
    "import datetime \n",
    "cell=1\n",
    "a=datetime.datetime.now()\n",
    "print(a)\n",
    "delt = datetime.timedelta(hours=0.5*cell)\n",
    "#print(delt)\n",
    "a2=a-delt # to this i compare\n",
    "print(a2)\n",
    "ptdt=dfp.iloc[:,[0]].ix[0].dt #.strftime('%Y-%m-%d %H:%M:%S') \n",
    "\n",
    "dstr='%4d-%02d-%02d %d:%02d:%02d' % (int(ptdt.year),int(ptdt.month),int(ptdt.day),int(ptdt.hour),int(ptdt.minute),int(ptdt.second)  ) \n",
    "print( 'dstr',dstr)\n",
    "dob=datetime.datetime.strptime( dstr, '%Y-%m-%d %H:%M:%S')\n",
    "\n",
    "print( 'dob', dob )\n",
    "#print( 'TYPE:', type(pt) )\n",
    "#print('ptPRED:' ,pt )\n",
    "#pt= pd.to_datetime(  dfp.iloc[:,[0]].ix[0]  ) \n",
    "#pt= pd.to_timedelta(  dfp.iloc[:,[0]].ix[0] - a2 ) \n",
    "#print('panda:', pt , type(pt) )\n",
    "#diff=(  pt  - a2 )\n",
    "diff=abs( (dob-a2).total_seconds() )\n",
    "print( 'DIFF:',  diff )\n",
    "#print( 'DIFFseconds:', pt.total_seconds() )"
   ]
  },
  {
   "cell_type": "code",
   "execution_count": null,
   "metadata": {},
   "outputs": [],
   "source": []
  }
 ],
 "metadata": {
  "kernelspec": {
   "display_name": "Python [Root]",
   "language": "python",
   "name": "Python [Root]"
  },
  "language_info": {
   "codemirror_mode": {
    "name": "ipython",
    "version": 3
   },
   "file_extension": ".py",
   "mimetype": "text/x-python",
   "name": "python",
   "nbconvert_exporter": "python",
   "pygments_lexer": "ipython3",
   "version": "3.5.2"
  }
 },
 "nbformat": 4,
 "nbformat_minor": 1
}
