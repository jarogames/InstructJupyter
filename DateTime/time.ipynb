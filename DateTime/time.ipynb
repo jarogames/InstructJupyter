{
 "cells": [
  {
   "cell_type": "code",
   "execution_count": 17,
   "metadata": {},
   "outputs": [
    {
     "name": "stdout",
     "output_type": "stream",
     "text": [
      "seconds from start= 1.10424\n",
      "17 : 34 : 54\n",
      "prevod = 1482942894.8159907 -> Wed Dec 28 17:34:54 2016\n",
      "seconds from start= 1.105211\n"
     ]
    }
   ],
   "source": [
    "import time\n",
    "print( 'seconds from start=',  time.clock()  )  \n",
    "print( time.localtime().tm_hour,':',time.localtime().tm_min ,':',time.localtime().tm_sec )\n",
    "print( 'prevod =', time.time(), '->',time.ctime( time.time() ) )\n",
    "print( 'seconds from start=', time.clock() )  "
   ]
  }
 ],
 "metadata": {
  "kernelspec": {
   "display_name": "Python [Root]",
   "language": "python",
   "name": "Python [Root]"
  },
  "language_info": {
   "codemirror_mode": {
    "name": "ipython",
    "version": 3
   },
   "file_extension": ".py",
   "mimetype": "text/x-python",
   "name": "python",
   "nbconvert_exporter": "python",
   "pygments_lexer": "ipython3",
   "version": "3.5.2"
  }
 },
 "nbformat": 4,
 "nbformat_minor": 1
}
