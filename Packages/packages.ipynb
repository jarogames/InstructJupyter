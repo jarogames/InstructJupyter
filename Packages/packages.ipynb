{
 "cells": [
  {
   "cell_type": "markdown",
   "metadata": {},
   "source": [
    "# Packages\n",
    "- path ... either define or use some /home/mraz/anaconda3/lib/python3.5"
   ]
  },
  {
   "cell_type": "code",
   "execution_count": 1,
   "metadata": {},
   "outputs": [
    {
     "name": "stdout",
     "output_type": "stream",
     "text": [
      "['', '/home/mraz/anaconda3/lib/python35.zip', '/home/mraz/anaconda3/lib/python3.5', '/home/mraz/anaconda3/lib/python3.5/plat-linux', '/home/mraz/anaconda3/lib/python3.5/lib-dynload', '/home/mraz/anaconda3/lib/python3.5/site-packages', '/home/mraz/anaconda3/lib/python3.5/site-packages/Sphinx-1.4.1-py3.5.egg', '/home/mraz/anaconda3/lib/python3.5/site-packages/setuptools-23.0.0-py3.5.egg', '/home/mraz/anaconda3/lib/python3.5/site-packages/IPython/extensions', '/home/mraz/.ipython', '/home/mraz/02_GIT/']\n"
     ]
    }
   ],
   "source": [
    "import sys\n",
    "import os\n",
    "home=os.getenv('HOME')  # in linux only\n",
    "#from os.path import expanduser     #home = expanduser(\"~\")\n",
    "sys.path.append( home+'/02_GIT/')\n",
    "print (sys.path)\n",
    "import NuPhyPy"
   ]
  },
  {
   "cell_type": "markdown",
   "metadata": {},
   "source": [
    "# Directory structure\n",
    "- create directory ```NuPhyPy```\n",
    "- create EMPTY file ```__init__.py```\n",
    "- create subdirectory like ```prereq``` with file like ```runProgs.py``` inside\n",
    "- and call ```def functions``` from this file"
   ]
  },
  {
   "cell_type": "code",
   "execution_count": 4,
   "metadata": {},
   "outputs": [
    {
     "name": "stdout",
     "output_type": "stream",
     "text": [
      "searching for pattern program SRIM.exe in path /home/mraz/.wine/\n",
      "result= [\"'/home/mraz/.wine/drive_c/Program Files/SRIM/SRIM.exe'\"]\n"
     ]
    }
   ],
   "source": [
    "import NuPhyPy.prereq.runProgs as s\n",
    "res=s.findProg(os.getenv('HOME')+'/.wine/','SRIM.exe')\n",
    "print('result=',res)"
   ]
  },
  {
   "cell_type": "markdown",
   "metadata": {},
   "source": [
    "# Running wine example ...  not concering packages however\n",
    "from my prereq/runProg.py"
   ]
  },
  {
   "cell_type": "code",
   "execution_count": 7,
   "metadata": {},
   "outputs": [
    {
     "name": "stdout",
     "output_type": "stream",
     "text": [
      "wine '/home/mraz/.wine/drive_c/Program Files/SRIM/SRIM.exe'\n",
      "running  wine '/home/mraz/.wine/drive_c/Program Files/SRIM/SRIM.exe'\n"
     ]
    },
    {
     "data": {
      "text/plain": [
       "''"
      ]
     },
     "execution_count": 7,
     "metadata": {},
     "output_type": "execute_result"
    }
   ],
   "source": [
    "print( 'wine '+res[0] )\n",
    "s.runProg( 'wine '+res[0] )"
   ]
  }
 ],
 "metadata": {
  "kernelspec": {
   "display_name": "Python [Root]",
   "language": "python",
   "name": "Python [Root]"
  },
  "language_info": {
   "codemirror_mode": {
    "name": "ipython",
    "version": 3
   },
   "file_extension": ".py",
   "mimetype": "text/x-python",
   "name": "python",
   "nbconvert_exporter": "python",
   "pygments_lexer": "ipython3",
   "version": "3.5.2"
  }
 },
 "nbformat": 4,
 "nbformat_minor": 1
}
