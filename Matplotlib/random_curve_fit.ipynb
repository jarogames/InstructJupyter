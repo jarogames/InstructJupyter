{
 "cells": [
  {
   "cell_type": "markdown",
   "metadata": {},
   "source": [
    "curve_fit\n",
    "===============\n",
    "**there is numpy.array there...**\n",
    "\n",
    "With method='lm', the algorithm uses the Levenberg-Marquardt algorithm through leastsq. Note that this algorithm can only deal with unconstrained problems.\n",
    "\n",
    "Box constraints can be handled by methods ‘trf’ and ‘dogbox’. Refer to the docstring of least_squares for more information. https://docs.scipy.org/doc/scipy/reference/generated/scipy.optimize.curve_fit.html\n",
    "\n",
    "leastsq - this i try here\n",
    "------------\n",
    "“leastsq” is a wrapper around MINPACK’s lmdif and lmder algorithms.\n",
    "\n",
    "cov_x is a Jacobian approximation to the Hessian of the least squares objective function. This approximation assumes that the objective function is based on the difference between some observed target data (ydata) and a (non-linear) function of the parameters f(xdata, params)\n",
    "https://docs.scipy.org/doc/scipy-0.18.1/reference/generated/scipy.optimize.leastsq.html\n",
    "\n",
    "http://iminuit.readthedocs.io/en/latest/"
   ]
  },
  {
   "cell_type": "code",
   "execution_count": 37,
   "metadata": {},
   "outputs": [
    {
     "data": {
      "image/png": "[encoded data removed]",
      "text/plain": [
       "<matplotlib.figure.Figure at 0x7fef0dcbcb00>"
      ]
     },
     "metadata": {},
     "output_type": "display_data"
    }
   ],
   "source": [
    "%matplotlib inline\n",
    "import numpy as np\n",
    "from scipy import optimize\n",
    "import random\n",
    "import matplotlib.pyplot as plt\n",
    "import pandas\n",
    "\n",
    "# These are the true parameters\n",
    "p0 = 1.0\n",
    "p1 = 1.0\n",
    "sigma=1.0\n",
    "fasigma=sigma *1.0  #  points are dispersed more than 1sigma\n",
    "totalpoints=66\n",
    "#pd.Series(100)  #pandas\n",
    "li=np.random.random(totalpoints)*3+1\n",
    "ga=np.random.normal(0.,  fasigma , totalpoints)\n",
    "plt.hist( li,  bins = np.linspace(-2.0, 15, 100))\n",
    "plt.hist( ga,  bins = np.linspace(-2.0, 15, 100))\n",
    "plt.show()\n",
    "#hist=np.histogram(a,   bins=np.linspace(0,6,num=61) )\n",
    "#hist\n"
   ]
  },
  {
   "cell_type": "code",
   "execution_count": 38,
   "metadata": {},
   "outputs": [
    {
     "name": "stdout",
     "output_type": "stream",
     "text": [
      "[ 2.          2.07692308  2.15384615  2.23076923  2.30769231  2.38461538\n",
      "  2.46153846  2.53846154  2.61538462  2.69230769  2.76923077  2.84615385\n",
      "  2.92307692  3.          3.07692308  3.15384615  3.23076923  3.30769231\n",
      "  3.38461538  3.46153846  3.53846154  3.61538462  3.69230769  3.76923077\n",
      "  3.84615385  3.92307692  4.          4.07692308  4.15384615  4.23076923\n",
      "  4.30769231  4.38461538  4.46153846  4.53846154  4.61538462  4.69230769\n",
      "  4.76923077  4.84615385  4.92307692  5.          5.07692308  5.15384615\n",
      "  5.23076923  5.30769231  5.38461538  5.46153846  5.53846154  5.61538462\n",
      "  5.69230769  5.76923077  5.84615385  5.92307692  6.          6.07692308\n",
      "  6.15384615  6.23076923  6.30769231  6.38461538  6.46153846  6.53846154\n",
      "  6.61538462  6.69230769  6.76923077  6.84615385  6.92307692  7.        ]\n"
     ]
    }
   ],
   "source": [
    "# These are initial guesses for fits - randomized:\n",
    "p0=np.array([ 5.0, 2.0 ])\n",
    "pr=np.array([ x+np.random.random()*0.2-0.1 for x in p0 ])\n",
    "#print(p0,pr)\n",
    "####### numpy.ndarray\n",
    "def f(x,p0,p1):\n",
    "    #print(x, type(x), p0, type(p0), p1, type(p1))\n",
    "    return p0*x+p1\n",
    "xvals = np.linspace(0., 1, totalpoints )\n",
    "yvals = f(xvals, *p0 )\n",
    "print(yvals)\n",
    "yrand=np.array([ y+g for y,g in zip(yvals,ga) ])\n",
    "dyrand=np.array([ sigma for x in xvals ])"
   ]
  },
  {
   "cell_type": "code",
   "execution_count": 39,
   "metadata": {
    "collapsed": true
   },
   "outputs": [],
   "source": [
    "#print(xvals )\n",
    "#print('origo==',yrand, type(yrand) )\n",
    "np.savetxt('data/outx.txt' ,xvals.view(float) )\n",
    "np.savetxt('data/outy.txt' ,yrand.view(float) )\n",
    "xvals = np.loadtxt('data/outx.txt').view(float)\n",
    "yrand = np.loadtxt('data/outy.txt').view(float)\n",
    "#print('read ==',yrand, type(yrand) )\n"
   ]
  },
  {
   "cell_type": "code",
   "execution_count": 40,
   "metadata": {},
   "outputs": [
    {
     "name": "stdout",
     "output_type": "stream",
     "text": [
      "real     values [ 5.  2.]\n",
      "starting values [ 4.98775559  1.91465326]\n",
      "fitted values   [ 4.73033226  1.93287433]\n",
      "[[ 0.17289904 -0.08644952]\n",
      " [-0.08644952  0.05807634]]\n",
      "        Xi2= 62.7330916174  dnf= 64  xi2/dnf= 0.980204556522\n",
      "... i DONT multiply by normalized xi2 0.980204556522\n",
      "Xi2 1sig =(  58.5158873416 ... 68.0866751478 )\n",
      "Xi2 2sig=(  46.5949052248 ... 83.6752607427 )\n",
      "Xi2 3sig=(  40.648562829 ... 93.2168596602 )\n",
      "[[ 0.17289904 -0.08644952]\n",
      " [-0.08644952  0.05807634]]\n"
     ]
    }
   ],
   "source": [
    "print('real     values',p0)# Generate data with a bit of randomness\n",
    "print('starting values',pr)# Generate data with a bit of randomness\n",
    "## this bitch sends x as numpy.ndarray\n",
    "##  it determines number of parameters from the function definition :/\n",
    "pfit, pcov = optimize.curve_fit(f, xvals, yrand,  sigma=dyrand )\n",
    "print('fitted values  ',pfit )\n",
    "print(pcov)\n",
    "xi2=( (f(xvals, *pfit )-yrand)**2).sum()\n",
    "dnf=(len(yrand)-len(pfit))\n",
    "print('        Xi2=',xi2,\" dnf=\",dnf, \" xi2/dnf=\",xi2/dnf)\n",
    "if (len(yrand) > len(pfit)) and pcov is not None:\n",
    "    s_sq = xi2/dnf\n",
    "    if (s_sq>1.0):\n",
    "        print('... i MuLtIpLy by',s_sq)\n",
    "        pcov = pcov * xi2/dnf      \n",
    "    else:\n",
    "        print('... i DONT multiply by normalized xi2',s_sq)\n",
    "        #pcov = pcov * s_sq        \n",
    "    from scipy.stats import chi2\n",
    "    mean, var, skew, kurt = chi2.stats(dnf, moments='mvsk')\n",
    "    print( 'Xi2 1sig =( ', chi2.ppf( 0.33, dnf),'...', chi2.ppf( 0.66, dnf) ,')' )\n",
    "    print( 'Xi2 2sig=( ', chi2.ppf( 0.05, dnf),'...', chi2.ppf( 0.95, dnf) ,')' )\n",
    "    print( 'Xi2 3sig=( ', chi2.ppf( 0.01, dnf),'...', chi2.ppf( 0.99, dnf) ,')' )\n",
    "else:\n",
    "    pcov = np.inf\n",
    "error=[]\n",
    "print(pcov)"
   ]
  },
  {
   "cell_type": "code",
   "execution_count": 41,
   "metadata": {},
   "outputs": [
    {
     "name": "stdout",
     "output_type": "stream",
     "text": [
      "fitted values   [ 4.73033226  1.93287433]\n",
      "delta  values= [0.41581130464138827, 0.24099034108467479]\n"
     ]
    },
    {
     "data": {
      "image/png": "[encoded data removed]",
      "text/plain": [
       "<matplotlib.figure.Figure at 0x7fef0dc43ac8>"
      ]
     },
     "metadata": {},
     "output_type": "display_data"
    }
   ],
   "source": [
    "error=[]\n",
    "for i in range(len(pfit)):\n",
    "    try:\n",
    "        error.append(np.absolute(pcov[i][i])**0.5)\n",
    "    except:\n",
    "        error.append( 0.00 )\n",
    "print('fitted values  ',pfit )\n",
    "print('delta  values=',error)\n",
    "\n",
    "#plt.plot(xvals, yvals,'k. ')\n",
    "plt.figure(1)\n",
    "plt.subplot(211)\n",
    "\n",
    "plt.plot(xvals, f(xvals,*pfit) ,\"r\")\n",
    "plt.errorbar(xvals, yrand, fmt='r. ', yerr=dyrand)\n",
    "\n",
    "plt.plot(xvals, f(xvals,*p0)   ,\"gx-\" ) # original theory\n",
    "plt.grid()\n",
    "x1,x2,y1,y2 = plt.axis()\n",
    "plt.axis((x1-(x2-x1)*0.1,x2+(x2-x1)*0.1,y1  ,y2 ))\n",
    "plt.subplot(212)\n",
    "plt.plot(xvals, f(xvals,*p0)-yvals   ,\"gx-\" ) # original theory\n",
    "plt.errorbar(xvals, f(xvals, *pfit)-yrand, fmt='r. ', yerr=dyrand)\n",
    "#plt.tight_layout()\n",
    "plt.grid()\n",
    "x1,x2,y1,y2 = plt.axis()\n",
    "plt.axis((x1-(x2-x1)*0.1,x2+(x2-x1)*0.1,y1  ,y2 ))\n",
    "plt.show()\n",
    "\n"
   ]
  },
  {
   "cell_type": "markdown",
   "metadata": {},
   "source": [
    "$\\chi^2$ analysis\n",
    "-------------"
   ]
  },
  {
   "cell_type": "code",
   "execution_count": 42,
   "metadata": {},
   "outputs": [
    {
     "data": {
      "image/png": "[encoded data removed]",
      "text/plain": [
       "<matplotlib.figure.Figure at 0x7fef05f91b70>"
      ]
     },
     "metadata": {},
     "output_type": "display_data"
    }
   ],
   "source": [
    "from scipy.stats import chi2\n",
    "import matplotlib.pyplot as plt\n",
    "dnf = (len(yrand)-len(pfit))\n",
    "mean, var, skew, kurt = chi2.stats(dnf, moments='mvsk')\n",
    "x = np.linspace(chi2.ppf(0.01, dnf), chi2.ppf(0.99, dnf), 100)\n",
    "plt.plot(x, chi2.pdf(x, dnf), 'r-', lw=1, alpha=0.6, label='chi2 pdf')\n",
    "(lll,hhh)=( chi2.ppf( 0.01, dnf), chi2.ppf( 0.99, dnf) )\n",
    "plt.axvspan( lll,hhh, ymin=0,ymax=1, facecolor='yellow', alpha=0.1)\n",
    "(ll,hh)=( chi2.ppf( 0.05, dnf), chi2.ppf( 0.95, dnf) )\n",
    "plt.axvspan( ll,hh, ymin=0,ymax=1, facecolor='orange', alpha=0.2)\n",
    "(l,h)=( chi2.ppf( 0.35, dnf), chi2.ppf( 0.65, dnf) )\n",
    "plt.axvspan( l,h, ymin=0,ymax=1, facecolor='blue', alpha=0.4)\n",
    "(l,h)=( xi2-(hh-ll)/100 ,xi2+(hh-ll)/100)\n",
    "plt.axvspan( l,h, ymin=0,ymax=1, facecolor='red', alpha=0.9)\n",
    "plt.show()"
   ]
  },
  {
   "cell_type": "code",
   "execution_count": null,
   "metadata": {
    "collapsed": true
   },
   "outputs": [],
   "source": []
  },
  {
   "cell_type": "code",
   "execution_count": null,
   "metadata": {
    "collapsed": true
   },
   "outputs": [],
   "source": []
  }
 ],
 "metadata": {
  "kernelspec": {
   "display_name": "Python 3",
   "language": "python",
   "name": "python3"
  },
  "language_info": {
   "codemirror_mode": {
    "name": "ipython",
    "version": 3
   },
   "file_extension": ".py",
   "mimetype": "text/x-python",
   "name": "python",
   "nbconvert_exporter": "python",
   "pygments_lexer": "ipython3",
   "version": "3.5.2"
  }
 },
 "nbformat": 4,
 "nbformat_minor": 1
}
