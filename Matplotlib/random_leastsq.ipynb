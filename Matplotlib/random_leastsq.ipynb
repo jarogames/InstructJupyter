{
 "cells": [
  {
   "cell_type": "markdown",
   "metadata": {},
   "source": [
    "curve_fit\n",
    "----------------\n",
    "With method='lm', the algorithm uses the Levenberg-Marquardt algorithm through leastsq. Note that this algorithm can only deal with unconstrained problems.\n",
    "\n",
    "Box constraints can be handled by methods ‘trf’ and ‘dogbox’. Refer to the docstring of least_squares for more information. https://docs.scipy.org/doc/scipy/reference/generated/scipy.optimize.curve_fit.html\n",
    "\n",
    "leastsq - this i try here\n",
    "------------\n",
    "“leastsq” is a wrapper around MINPACK’s lmdif and lmder algorithms.\n",
    "\n",
    "cov_x is a Jacobian approximation to the Hessian of the least squares objective function. This approximation assumes that the objective function is based on the difference between some observed target data (ydata) and a (non-linear) function of the parameters f(xdata, params)\n",
    "https://docs.scipy.org/doc/scipy-0.18.1/reference/generated/scipy.optimize.leastsq.html\n",
    "\n",
    "http://iminuit.readthedocs.io/en/latest/"
   ]
  },
  {
   "cell_type": "code",
   "execution_count": 371,
   "metadata": {},
   "outputs": [
    {
     "data": {
      "image/png": "[encoded data removed]",
      "text/plain": [
       "<matplotlib.figure.Figure at 0x7f23b2ec2320>"
      ]
     },
     "metadata": {},
     "output_type": "display_data"
    }
   ],
   "source": [
    "%matplotlib inline\n",
    "import numpy as np\n",
    "from scipy import optimize\n",
    "import random\n",
    "import matplotlib.pyplot as plt\n",
    "\n",
    "# These are the true parameters\n",
    "p0 = 1.0\n",
    "p1 = 1.0\n",
    "sigma=1.0\n",
    "fasigma=sigma *1.0  #  points are dispersed more than 1sigma\n",
    "totalpoints=10\n",
    "#pd.Series(100)  #pandas\n",
    "li=np.random.random(totalpoints)*3+1\n",
    "ga=np.random.normal(0.,  fasigma , totalpoints)\n",
    "plt.hist( li,  bins = np.linspace(-2.0, 15, 100))\n",
    "plt.hist( ga,  bins = np.linspace(-2.0, 15, 100))\n",
    "plt.show()\n",
    "#hist=np.histogram(a,   bins=np.linspace(0,6,num=61) )\n",
    "#hist\n"
   ]
  },
  {
   "cell_type": "code",
   "execution_count": 398,
   "metadata": {},
   "outputs": [],
   "source": [
    "# These are initial guesses for fits:\n",
    "p0=[ 5.0, 2.0 ]\n",
    "pr = [\n",
    "    p0[0] + random.random()*0.2-0.1,\n",
    "    p0[1] + random.random()*0.2-0.1, \n",
    "]\n",
    "def f(x,p):\n",
    "    return p[0]*x+p[1]\n",
    "%matplotlib inline\n",
    "import matplotlib.pyplot as plt\n",
    "xvals = np.linspace(0., 1, totalpoints )\n",
    "yvals = f(xvals, p0 )\n",
    "yrand=[ y+g for y,g in zip(yvals,ga[0:len(xvals)]) ]\n",
    "dyrand=[ sigma for x in xvals ]\n",
    "#yrand\n",
    "#plt.errorbar(xvals, yvals, fmt='s', yerr=sigma )\n",
    "#plt.plot(xvals, yvals, '.' )\n",
    "#plt.errorbar(xvals, yrand, fmt='o', yerr=sigma )\n"
   ]
  },
  {
   "cell_type": "code",
   "execution_count": 70,
   "metadata": {},
   "outputs": [
    {
     "name": "stdout",
     "output_type": "stream",
     "text": [
      "real     values [5.0, 2.0]\n",
      "starting values [5.0258166045800206, 2.0541290259989498]\n"
     ]
    },
    {
     "ename": "TypeError",
     "evalue": "f() missing 1 required positional argument: 'p1'",
     "output_type": "error",
     "traceback": [
      "\u001b[0;31m---------------------------------------------------------------------------\u001b[0m",
      "\u001b[0;31mTypeError\u001b[0m                                 Traceback (most recent call last)",
      "\u001b[0;32m<ipython-input-70-0a0b4223f648>\u001b[0m in \u001b[0;36m<module>\u001b[0;34m()\u001b[0m\n\u001b[1;32m      4\u001b[0m \u001b[0merrfunc\u001b[0m \u001b[0;34m=\u001b[0m \u001b[0;32mlambda\u001b[0m \u001b[0mp\u001b[0m\u001b[0;34m,\u001b[0m \u001b[0mx\u001b[0m\u001b[0;34m,\u001b[0m \u001b[0my\u001b[0m\u001b[0;34m,\u001b[0m \u001b[0mdy\u001b[0m\u001b[0;34m:\u001b[0m \u001b[0;34m(\u001b[0m\u001b[0;34m(\u001b[0m\u001b[0mf\u001b[0m\u001b[0;34m(\u001b[0m\u001b[0mx\u001b[0m\u001b[0;34m,\u001b[0m\u001b[0mp\u001b[0m\u001b[0;34m)\u001b[0m \u001b[0;34m-\u001b[0m \u001b[0my\u001b[0m\u001b[0;34m)\u001b[0m\u001b[0;34m)\u001b[0m\u001b[0;34m/\u001b[0m\u001b[0mdy\u001b[0m\u001b[0;34m\u001b[0m\u001b[0m\n\u001b[1;32m      5\u001b[0m \u001b[0;31m##                               (y-m)**2 / dy**2\u001b[0m\u001b[0;34m\u001b[0m\u001b[0;34m\u001b[0m\u001b[0m\n\u001b[0;32m----> 6\u001b[0;31m \u001b[0mpfit\u001b[0m\u001b[0;34m,\u001b[0m \u001b[0mpcov\u001b[0m\u001b[0;34m,\u001b[0m \u001b[0minfodict\u001b[0m\u001b[0;34m,\u001b[0m \u001b[0merrmsg\u001b[0m\u001b[0;34m,\u001b[0m \u001b[0msuccess\u001b[0m \u001b[0;34m=\u001b[0m         \u001b[0moptimize\u001b[0m\u001b[0;34m.\u001b[0m\u001b[0mleastsq\u001b[0m\u001b[0;34m(\u001b[0m\u001b[0merrfunc\u001b[0m\u001b[0;34m,\u001b[0m \u001b[0mpr\u001b[0m\u001b[0;34m,\u001b[0m \u001b[0margs\u001b[0m\u001b[0;34m=\u001b[0m\u001b[0;34m(\u001b[0m\u001b[0mxvals\u001b[0m\u001b[0;34m,\u001b[0m \u001b[0myrand\u001b[0m\u001b[0;34m,\u001b[0m \u001b[0mdyrand\u001b[0m\u001b[0;34m)\u001b[0m\u001b[0;34m,\u001b[0m                           \u001b[0mfull_output\u001b[0m\u001b[0;34m=\u001b[0m\u001b[0;36m1\u001b[0m\u001b[0;34m,\u001b[0m \u001b[0mepsfcn\u001b[0m\u001b[0;34m=\u001b[0m\u001b[0;36m0.0001\u001b[0m\u001b[0;34m)\u001b[0m\u001b[0;34m\u001b[0m\u001b[0m\n\u001b[0m\u001b[1;32m      7\u001b[0m \u001b[0mprint\u001b[0m\u001b[0;34m(\u001b[0m\u001b[0;34m'fitted values ='\u001b[0m\u001b[0;34m,\u001b[0m\u001b[0mpfit\u001b[0m\u001b[0;34m)\u001b[0m\u001b[0;34m\u001b[0m\u001b[0m\n\u001b[1;32m      8\u001b[0m \u001b[0mprint\u001b[0m\u001b[0;34m(\u001b[0m\u001b[0mpcov\u001b[0m\u001b[0;34m)\u001b[0m\u001b[0;34m\u001b[0m\u001b[0m\n",
      "\u001b[0;32m/home/ojr/anaconda3/lib/python3.5/site-packages/scipy/optimize/minpack.py\u001b[0m in \u001b[0;36mleastsq\u001b[0;34m(func, x0, args, Dfun, full_output, col_deriv, ftol, xtol, gtol, maxfev, epsfcn, factor, diag)\u001b[0m\n\u001b[1;32m    375\u001b[0m     \u001b[0;32mif\u001b[0m \u001b[0;32mnot\u001b[0m \u001b[0misinstance\u001b[0m\u001b[0;34m(\u001b[0m\u001b[0margs\u001b[0m\u001b[0;34m,\u001b[0m \u001b[0mtuple\u001b[0m\u001b[0;34m)\u001b[0m\u001b[0;34m:\u001b[0m\u001b[0;34m\u001b[0m\u001b[0m\n\u001b[1;32m    376\u001b[0m         \u001b[0margs\u001b[0m \u001b[0;34m=\u001b[0m \u001b[0;34m(\u001b[0m\u001b[0margs\u001b[0m\u001b[0;34m,\u001b[0m\u001b[0;34m)\u001b[0m\u001b[0;34m\u001b[0m\u001b[0m\n\u001b[0;32m--> 377\u001b[0;31m     \u001b[0mshape\u001b[0m\u001b[0;34m,\u001b[0m \u001b[0mdtype\u001b[0m \u001b[0;34m=\u001b[0m \u001b[0m_check_func\u001b[0m\u001b[0;34m(\u001b[0m\u001b[0;34m'leastsq'\u001b[0m\u001b[0;34m,\u001b[0m \u001b[0;34m'func'\u001b[0m\u001b[0;34m,\u001b[0m \u001b[0mfunc\u001b[0m\u001b[0;34m,\u001b[0m \u001b[0mx0\u001b[0m\u001b[0;34m,\u001b[0m \u001b[0margs\u001b[0m\u001b[0;34m,\u001b[0m \u001b[0mn\u001b[0m\u001b[0;34m)\u001b[0m\u001b[0;34m\u001b[0m\u001b[0m\n\u001b[0m\u001b[1;32m    378\u001b[0m     \u001b[0mm\u001b[0m \u001b[0;34m=\u001b[0m \u001b[0mshape\u001b[0m\u001b[0;34m[\u001b[0m\u001b[0;36m0\u001b[0m\u001b[0;34m]\u001b[0m\u001b[0;34m\u001b[0m\u001b[0m\n\u001b[1;32m    379\u001b[0m     \u001b[0;32mif\u001b[0m \u001b[0mn\u001b[0m \u001b[0;34m>\u001b[0m \u001b[0mm\u001b[0m\u001b[0;34m:\u001b[0m\u001b[0;34m\u001b[0m\u001b[0m\n",
      "\u001b[0;32m/home/ojr/anaconda3/lib/python3.5/site-packages/scipy/optimize/minpack.py\u001b[0m in \u001b[0;36m_check_func\u001b[0;34m(checker, argname, thefunc, x0, args, numinputs, output_shape)\u001b[0m\n\u001b[1;32m     24\u001b[0m def _check_func(checker, argname, thefunc, x0, args, numinputs,\n\u001b[1;32m     25\u001b[0m                 output_shape=None):\n\u001b[0;32m---> 26\u001b[0;31m     \u001b[0mres\u001b[0m \u001b[0;34m=\u001b[0m \u001b[0matleast_1d\u001b[0m\u001b[0;34m(\u001b[0m\u001b[0mthefunc\u001b[0m\u001b[0;34m(\u001b[0m\u001b[0;34m*\u001b[0m\u001b[0;34m(\u001b[0m\u001b[0;34m(\u001b[0m\u001b[0mx0\u001b[0m\u001b[0;34m[\u001b[0m\u001b[0;34m:\u001b[0m\u001b[0mnuminputs\u001b[0m\u001b[0;34m]\u001b[0m\u001b[0;34m,\u001b[0m\u001b[0;34m)\u001b[0m \u001b[0;34m+\u001b[0m \u001b[0margs\u001b[0m\u001b[0;34m)\u001b[0m\u001b[0;34m)\u001b[0m\u001b[0;34m)\u001b[0m\u001b[0;34m\u001b[0m\u001b[0m\n\u001b[0m\u001b[1;32m     27\u001b[0m     \u001b[0;32mif\u001b[0m \u001b[0;34m(\u001b[0m\u001b[0moutput_shape\u001b[0m \u001b[0;32mis\u001b[0m \u001b[0;32mnot\u001b[0m \u001b[0;32mNone\u001b[0m\u001b[0;34m)\u001b[0m \u001b[0;32mand\u001b[0m \u001b[0;34m(\u001b[0m\u001b[0mshape\u001b[0m\u001b[0;34m(\u001b[0m\u001b[0mres\u001b[0m\u001b[0;34m)\u001b[0m \u001b[0;34m!=\u001b[0m \u001b[0moutput_shape\u001b[0m\u001b[0;34m)\u001b[0m\u001b[0;34m:\u001b[0m\u001b[0;34m\u001b[0m\u001b[0m\n\u001b[1;32m     28\u001b[0m         \u001b[0;32mif\u001b[0m \u001b[0;34m(\u001b[0m\u001b[0moutput_shape\u001b[0m\u001b[0;34m[\u001b[0m\u001b[0;36m0\u001b[0m\u001b[0;34m]\u001b[0m \u001b[0;34m!=\u001b[0m \u001b[0;36m1\u001b[0m\u001b[0;34m)\u001b[0m\u001b[0;34m:\u001b[0m\u001b[0;34m\u001b[0m\u001b[0m\n",
      "\u001b[0;32m<ipython-input-70-0a0b4223f648>\u001b[0m in \u001b[0;36m<lambda>\u001b[0;34m(p, x, y, dy)\u001b[0m\n\u001b[1;32m      2\u001b[0m \u001b[0mprint\u001b[0m\u001b[0;34m(\u001b[0m\u001b[0;34m'starting values'\u001b[0m\u001b[0;34m,\u001b[0m\u001b[0mpr\u001b[0m\u001b[0;34m)\u001b[0m\u001b[0;31m# Generate data with a bit of randomness\u001b[0m\u001b[0;34m\u001b[0m\u001b[0m\n\u001b[1;32m      3\u001b[0m \u001b[0;31m#errfunc = lambda p, x, y, dy: ((f(x,p) - y)**2)/dy/dy\u001b[0m\u001b[0;34m\u001b[0m\u001b[0;34m\u001b[0m\u001b[0m\n\u001b[0;32m----> 4\u001b[0;31m \u001b[0merrfunc\u001b[0m \u001b[0;34m=\u001b[0m \u001b[0;32mlambda\u001b[0m \u001b[0mp\u001b[0m\u001b[0;34m,\u001b[0m \u001b[0mx\u001b[0m\u001b[0;34m,\u001b[0m \u001b[0my\u001b[0m\u001b[0;34m,\u001b[0m \u001b[0mdy\u001b[0m\u001b[0;34m:\u001b[0m \u001b[0;34m(\u001b[0m\u001b[0;34m(\u001b[0m\u001b[0mf\u001b[0m\u001b[0;34m(\u001b[0m\u001b[0mx\u001b[0m\u001b[0;34m,\u001b[0m\u001b[0mp\u001b[0m\u001b[0;34m)\u001b[0m \u001b[0;34m-\u001b[0m \u001b[0my\u001b[0m\u001b[0;34m)\u001b[0m\u001b[0;34m)\u001b[0m\u001b[0;34m/\u001b[0m\u001b[0mdy\u001b[0m\u001b[0;34m\u001b[0m\u001b[0m\n\u001b[0m\u001b[1;32m      5\u001b[0m \u001b[0;31m##                               (y-m)**2 / dy**2\u001b[0m\u001b[0;34m\u001b[0m\u001b[0;34m\u001b[0m\u001b[0m\n\u001b[1;32m      6\u001b[0m \u001b[0mpfit\u001b[0m\u001b[0;34m,\u001b[0m \u001b[0mpcov\u001b[0m\u001b[0;34m,\u001b[0m \u001b[0minfodict\u001b[0m\u001b[0;34m,\u001b[0m \u001b[0merrmsg\u001b[0m\u001b[0;34m,\u001b[0m \u001b[0msuccess\u001b[0m \u001b[0;34m=\u001b[0m         \u001b[0moptimize\u001b[0m\u001b[0;34m.\u001b[0m\u001b[0mleastsq\u001b[0m\u001b[0;34m(\u001b[0m\u001b[0merrfunc\u001b[0m\u001b[0;34m,\u001b[0m \u001b[0mpr\u001b[0m\u001b[0;34m,\u001b[0m \u001b[0margs\u001b[0m\u001b[0;34m=\u001b[0m\u001b[0;34m(\u001b[0m\u001b[0mxvals\u001b[0m\u001b[0;34m,\u001b[0m \u001b[0myrand\u001b[0m\u001b[0;34m,\u001b[0m \u001b[0mdyrand\u001b[0m\u001b[0;34m)\u001b[0m\u001b[0;34m,\u001b[0m                           \u001b[0mfull_output\u001b[0m\u001b[0;34m=\u001b[0m\u001b[0;36m1\u001b[0m\u001b[0;34m,\u001b[0m \u001b[0mepsfcn\u001b[0m\u001b[0;34m=\u001b[0m\u001b[0;36m0.0001\u001b[0m\u001b[0;34m)\u001b[0m\u001b[0;34m\u001b[0m\u001b[0m\n",
      "\u001b[0;31mTypeError\u001b[0m: f() missing 1 required positional argument: 'p1'"
     ]
    }
   ],
   "source": [
    "print('real     values',p0)# Generate data with a bit of randomness\n",
    "print('starting values',pr)# Generate data with a bit of randomness\n",
    "#errfunc = lambda p, x, y, dy: ((f(x,p) - y)**2)/dy/dy\n",
    "errfunc = lambda p, x, y, dy: ((f(x,p) - y))/dy\n",
    "##                               (y-m)**2 / dy**2\n",
    "pfit, pcov, infodict, errmsg, success = \\\n",
    "        optimize.leastsq(errfunc, pr, args=(xvals, yrand, dyrand), \\\n",
    "                          full_output=1, epsfcn=0.0001)\n",
    "print('fitted values =',pfit)\n",
    "print(pcov)\n",
    "if (len(yrand) > len(pfit)) and pcov is not None:\n",
    "    xi2=(errfunc(pfit, xvals, yrand, dyrand)**2).sum()\n",
    "    s_sq = xi2/(len(yrand)-len(pfit))\n",
    "    if (s_sq>1.0):\n",
    "        print('... i multiply by normalized xi2',s_sq)\n",
    "        pcov = pcov * xi2      \n",
    "    else:\n",
    "        print('... i DONT multiply by normalized xi2',s_sq)\n",
    "        #pcov = pcov * s_sq        \n",
    "\n",
    "    print( '       Xi2=', xi2 , ' np=', (len(yrand)-len(pfit)), \"     Xi2/np=\", s_sq)\n",
    "    from scipy.stats import chi2\n",
    "    df = (len(yrand)-len(pfit))\n",
    "    mean, var, skew, kurt = chi2.stats(df, moments='mvsk')\n",
    "#    x = np.linspace(chi2.ppf(0.01, df), chi2.ppf(0.99, df), 100)\n",
    "    #ax.plot(x, chi2.pdf(x, df), 'r-', lw=1, alpha=0.6, label='chi2 pdf')\n",
    "    print( 'Xi2 1sig =( ', chi2.ppf( 0.33, df),'...', chi2.ppf( 0.66, df) ,')' )\n",
    "    print( 'Xi2 2sig=( ', chi2.ppf( 0.05, df),'...', chi2.ppf( 0.95, df) ,')' )\n",
    "    print( 'Xi2 3sig=( ', chi2.ppf( 0.01, df),'...', chi2.ppf( 0.99, df) ,')' )\n",
    "else:\n",
    "    pcov = np.inf\n",
    "error=[]\n",
    "for i in range(len(pfit)):\n",
    "    try:\n",
    "        error.append(np.absolute(pcov[i][i])**0.5)\n",
    "    except:\n",
    "        error.append( 0.00 )\n",
    "print('delta  values=',error)\n",
    "print(pcov)\n",
    "\n",
    "#plt.plot(xvals, yvals,'k. ')\n",
    "plt.errorbar(xvals, yrand, fmt='r. ', yerr=dyrand)\n",
    "plt.plot(xvals, f(xvals,pfit) ,\"r\")\n",
    "plt.plot(xvals, f(xvals,p0)   ,\"g\" )\n",
    "#plt.plot(xdata, ydata, 'o', mfc='None') \n",
    "plt.tight_layout()\n",
    "\n",
    "plt.show()\n"
   ]
  },
  {
   "cell_type": "code",
   "execution_count": 400,
   "metadata": {},
   "outputs": [
    {
     "name": "stdout",
     "output_type": "stream",
     "text": [
      "ok\n"
     ]
    }
   ],
   "source": [
    "print('ok')"
   ]
  },
  {
   "cell_type": "code",
   "execution_count": 401,
   "metadata": {},
   "outputs": [
    {
     "data": {
      "image/png": "[encoded data removed]",
      "text/plain": [
       "<matplotlib.figure.Figure at 0x7f23b2e1e860>"
      ]
     },
     "metadata": {},
     "output_type": "display_data"
    }
   ],
   "source": [
    "from scipy.stats import chi2\n",
    "import matplotlib.pyplot as plt\n",
    "#fig, ax = plt.subplots(1, 1)\n",
    "df = (len(yrand)-len(pfit))\n",
    "mean, var, skew, kurt = chi2.stats(df, moments='mvsk')\n",
    "x = np.linspace(chi2.ppf(0.01, df), chi2.ppf(0.99, df), 100)\n",
    "plt.plot(x, chi2.pdf(x, df), 'r-', lw=1, alpha=0.6, label='chi2 pdf')\n",
    "(lll,hhh)=( chi2.ppf( 0.01, df), chi2.ppf( 0.99, df) )\n",
    "plt.axvspan( lll,hhh, ymin=0,ymax=1, facecolor='yellow', alpha=0.1)\n",
    "(ll,hh)=( chi2.ppf( 0.05, df), chi2.ppf( 0.95, df) )\n",
    "plt.axvspan( ll,hh, ymin=0,ymax=1, facecolor='orange', alpha=0.2)\n",
    "(l,h)=( chi2.ppf( 0.35, df), chi2.ppf( 0.65, df) )\n",
    "plt.axvspan( l,h, ymin=0,ymax=1, facecolor='blue', alpha=0.4)\n",
    "(l,h)=( xi2-(hh-ll)/100 ,xi2+(hh-ll)/100)\n",
    "plt.axvspan( l,h, ymin=0,ymax=1, facecolor='red', alpha=0.9)\n",
    "plt.show()"
   ]
  },
  {
   "cell_type": "code",
   "execution_count": null,
   "metadata": {},
   "outputs": [],
   "source": []
  },
  {
   "cell_type": "code",
   "execution_count": null,
   "metadata": {},
   "outputs": [],
   "source": []
  }
 ],
 "metadata": {
  "kernelspec": {
   "display_name": "Python [default]",
   "language": "python",
   "name": "python3"
  },
  "language_info": {
   "codemirror_mode": {
    "name": "ipython",
    "version": 3
   },
   "file_extension": ".py",
   "mimetype": "text/x-python",
   "name": "python",
   "nbconvert_exporter": "python",
   "pygments_lexer": "ipython3",
   "version": "3.5.2"
  }
 },
 "nbformat": 4,
 "nbformat_minor": 1
}
